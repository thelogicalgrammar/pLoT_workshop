{
 "cells": [
  {
   "cell_type": "markdown",
   "metadata": {},
   "source": [
    "# Python refresher"
   ]
  },
  {
   "cell_type": "markdown",
   "metadata": {},
   "source": [
    "Hello everyone!\n",
    "\n",
    "It's not feasible to become familiar with programming with a single notebook, so this is meant more for people who have had previous experience with programming but might need a refresher. These are just the minimal requirements to follow the implementation detail for the rest of the workshop, but you don't _need_ it to follow. Alternatively, you can go through this notebook multiple times, or look at other introductions ot python on the internet. The latter might make more sense because the particular way I have to explain this stuff might not click with you; seeing different approaches is always useful.\n",
    "\n",
    "> __NOTE__ Much of what I will say here is not strictly true from a programming point of view, but it is true enough for our purposes. If you want to know more I can give you pointers for more in-depth treatments.\n",
    "\n",
    "Unfortunately, *familiarity with programming takes time* - no way around that!"
   ]
  },
  {
   "cell_type": "markdown",
   "metadata": {},
   "source": [
    "## Colab"
   ]
  },
  {
   "cell_type": "markdown",
   "metadata": {},
   "source": [
    "If you want to run this code on the server (not in your laptop), you should be seeing this document on colab. Colab. Colab is a product from Google that allows anyone to write and run python code through the browser. This way, you don't need to set up and keep track of a python environment, which can be painful, and also we can make sure that we are all working on the same system, which helps with managing packages and avoiding surprises.\n",
    "\n",
    "While colab works pretty well for our purposes, it has some disadvantages. First, it limits the amount of computation you can do. Second, it makes it more complicated to manage files if you make changes to the notebooks I'll provide. If you do, you'll have to save your version of the notebook on your laptop and then re-upload it on colab to keep working on it."
   ]
  },
  {
   "cell_type": "markdown",
   "metadata": {},
   "source": [
    "## Jupyter notebooks"
   ]
  },
  {
   "cell_type": "markdown",
   "metadata": {},
   "source": [
    "The labs (including the one you are working on right now!) will be written in Jupyter notebooks. Jupyter notebooks are files that contain a combination of text and code. Each notebook consists of a series of _cells_, and each cell is either a text cell or a code cell. \n",
    "\n",
    "Various things to keep in mind:\n",
    "- You can select a cell by clicking on it.\n",
    "- You can edit both code and text cells. To edit a code text, press twice on it. To edit a code cell, just click on it.\n",
    "- You can run a cell by selecting it and then pressing ctrl+enter. If the cell is a text cell, it will render. If the cell is a code cell, it will run the code. \n",
    "- To add new code cells, select a cell, press Esc, and then click `a` to create a new cell above and `b` to create a new cell below the selected one.\n",
    "- You can move between cells also by pressing `k` to move to the cell above and `j` to move to the cell below."
   ]
  },
  {
   "cell_type": "markdown",
   "metadata": {},
   "source": [
    "> **__Exercises__** \n",
    "> - Add a new cell below this one."
   ]
  },
  {
   "cell_type": "markdown",
   "metadata": {},
   "source": [
    "## Spaces and indentation"
   ]
  },
  {
   "cell_type": "markdown",
   "metadata": {},
   "source": [
    "Spaces in python are part of the code, so adding or removing spaces can change the meaning of the code or break it. For instance, this should run fine:"
   ]
  },
  {
   "cell_type": "code",
   "execution_count": 2,
   "metadata": {},
   "outputs": [
    {
     "name": "stdout",
     "output_type": "stream",
     "text": [
      "012"
     ]
    }
   ],
   "source": [
    "for i in range(3):\n",
    "    print(i, end='')"
   ]
  },
  {
   "cell_type": "markdown",
   "metadata": {},
   "source": [
    "while this, which is only different in the spaces, should throw an error:"
   ]
  },
  {
   "cell_type": "code",
   "execution_count": 1,
   "metadata": {},
   "outputs": [
    {
     "name": "stdout",
     "output_type": "stream",
     "text": [
      "012"
     ]
    }
   ],
   "source": [
    "for i in range(3):\n",
    "    print(i, end='')"
   ]
  },
  {
   "cell_type": "markdown",
   "metadata": {},
   "source": [
    "## Printing and commands"
   ]
  },
  {
   "cell_type": "markdown",
   "metadata": {},
   "source": [
    "As is traditional when learning a programming language, let's start with how you print the string 'Hello world'. Strings in python are written with single or double quotation marks (they aren't quite the same, but that doesn't matter here). For instance, the string containing the sentence 'Hello world' can be written as `\"Hello world\"` or as `'Hello world'`. \n",
    "\n",
    "The way we print a string is by passing the string as an argument to the `print` function. Here's the code:"
   ]
  },
  {
   "cell_type": "code",
   "execution_count": 8,
   "metadata": {},
   "outputs": [
    {
     "name": "stdout",
     "output_type": "stream",
     "text": [
      "Hello world\n"
     ]
    }
   ],
   "source": [
    "print('Hello world')"
   ]
  },
  {
   "cell_type": "markdown",
   "metadata": {},
   "source": [
    "> **__Exercises__** \n",
    "> - Create a new cell and print your name!"
   ]
  },
  {
   "cell_type": "markdown",
   "metadata": {},
   "source": [
    "## Comments"
   ]
  },
  {
   "cell_type": "markdown",
   "metadata": {},
   "source": [
    "Comments are parts of the code that are not ran when you run the code. You can add them to your code to add explanations about what your code is doing. In python, if we want to only comment one line, we use the symbol `#`: everything after `#` will be a comment. If we want the comment to span over multiple lines, we use three quotation marks to mark the beginning of the comment and then three more to mark its end (possibly on a different line).\n",
    "\n",
    "For instance, suppose we wanted to comment the code above to explain what we are doing. We could do it so:"
   ]
  },
  {
   "cell_type": "code",
   "execution_count": 9,
   "metadata": {},
   "outputs": [
    {
     "name": "stdout",
     "output_type": "stream",
     "text": [
      "Hello world\n"
     ]
    }
   ],
   "source": [
    "# We are printing the sentence 'Hello world'\n",
    "print('Hello world')"
   ]
  },
  {
   "cell_type": "markdown",
   "metadata": {},
   "source": [
    "And suppose we wanted a longer comment over multiple lines:"
   ]
  },
  {
   "cell_type": "code",
   "execution_count": 10,
   "metadata": {},
   "outputs": [
    {
     "name": "stdout",
     "output_type": "stream",
     "text": [
      "Hello world\n"
     ]
    }
   ],
   "source": [
    "\"\"\"\n",
    "Here comes the first line of comment\n",
    "and here comes the second\n",
    "\"\"\"\n",
    "print('Hello world')"
   ]
  },
  {
   "cell_type": "markdown",
   "metadata": {},
   "source": [
    "Python doesn't see the comments!"
   ]
  },
  {
   "cell_type": "markdown",
   "metadata": {},
   "source": [
    "## Variables in python"
   ]
  },
  {
   "cell_type": "markdown",
   "metadata": {},
   "source": [
    "The topic of variables is huge and we can't do it justice in the little space we have available here. But just to give you an idea, you can think of a variable as a letter or word that has some content.\n",
    "\n",
    "In python, variables are defined with the symbol `=`. On the left of the symbol you specify the name of your variable, and on the right the (initial) value, which you can generally change later. For instance, suppose we want to create a variable called `name` that has as value the string `John`. We could do it as follows:"
   ]
  },
  {
   "cell_type": "code",
   "execution_count": 11,
   "metadata": {},
   "outputs": [],
   "source": [
    "name = 'John'"
   ]
  },
  {
   "cell_type": "markdown",
   "metadata": {},
   "source": [
    "> __NOTE__ Once you have defined a variable by running a cell in the notebook, the variable is accessible in other cells too!\n",
    "\n",
    "Let's verify this by printing the value of `name` in a different cell:"
   ]
  },
  {
   "cell_type": "code",
   "execution_count": 12,
   "metadata": {},
   "outputs": [
    {
     "name": "stdout",
     "output_type": "stream",
     "text": [
      "John\n"
     ]
    }
   ],
   "source": [
    "print(name)"
   ]
  },
  {
   "cell_type": "markdown",
   "metadata": {},
   "source": [
    "> **__Exercises__** \n",
    "> - Define a new variable called `myname` that has your name as its value.\n",
    "> - Print `myname`."
   ]
  },
  {
   "cell_type": "markdown",
   "metadata": {},
   "source": [
    "We can also print more than one variable in one go by passing multiple arguments to `print`, separated by commas:"
   ]
  },
  {
   "cell_type": "code",
   "execution_count": 13,
   "metadata": {},
   "outputs": [
    {
     "name": "stdout",
     "output_type": "stream",
     "text": [
      "John Rawls\n"
     ]
    }
   ],
   "source": [
    "second_name = 'Rawls'\n",
    "\n",
    "print(name, second_name)"
   ]
  },
  {
   "cell_type": "markdown",
   "metadata": {},
   "source": [
    "Note that not all sequence of symbols can be used for variable names in python. Here's some criteria for a variable name:\n",
    "- It must start with a letter or the underscore character, but not a number or other symbols.\n",
    "- It can only contain letters, numbers, and underscores (A-z, 0-9, and _ )\n",
    "- It is case-sensitive (name and Name are two different variables)\n",
    "\n",
    "We will follow the convention that when a variable name contains more than one word we want to separate, we use an underscore. For instance, we will write `first_name` rather than for instance `firstName`.\n",
    "\n",
    "> __NOTE__ Always give your variables meaningful names or your code will be very confusing!"
   ]
  },
  {
   "cell_type": "markdown",
   "metadata": {},
   "source": [
    "## Operators"
   ]
  },
  {
   "cell_type": "markdown",
   "metadata": {},
   "source": [
    "We have seen how to define string and variables containing string. But what if you wanted to combine two or more strings into a longer string? This is an example of what an _operator_ can do. You can think of an operator as a python keyword to do something to an object, for example a string.\n",
    "\n",
    "In the case of combining string, we can use the operator `+`. We can do it as follows:"
   ]
  },
  {
   "cell_type": "code",
   "execution_count": 16,
   "metadata": {},
   "outputs": [
    {
     "name": "stdout",
     "output_type": "stream",
     "text": [
      "John Rawls\n"
     ]
    }
   ],
   "source": [
    "full_name = 'John' + ' ' + 'Rawls'\n",
    "print(full_name)"
   ]
  },
  {
   "cell_type": "markdown",
   "metadata": {},
   "source": [
    "Note that we can use the operator on the variables as well, and not just on the string themselves. The operator then will be applied to the _content_ of the variables. For instance:"
   ]
  },
  {
   "cell_type": "code",
   "execution_count": 18,
   "metadata": {},
   "outputs": [
    {
     "name": "stdout",
     "output_type": "stream",
     "text": [
      "John Rawls\n"
     ]
    }
   ],
   "source": [
    "full_name = name + ' ' + second_name\n",
    "print(full_name)"
   ]
  },
  {
   "cell_type": "markdown",
   "metadata": {},
   "source": [
    "## Equality sign"
   ]
  },
  {
   "cell_type": "markdown",
   "metadata": {},
   "source": [
    "The equality sign in programming in a sense is close to what in English is expressed by the word 'is'. However, note that there is a fundamental difference between two sense of '`a` is 3': \n",
    "1. We are _giving_ `a` the value 3\n",
    "1. We are _claiming_ that the (previously defined) variable `a` has value 3\n",
    "The former expression is not making a claim, it's changing something, and therefore is neither true nor false. The latter expression is true or false depending on whether we gave `a` the value 3. \n",
    "\n",
    "In python, these two senses are written differently. We saw above that we use a single equality sign to attribute a value to a variable, which is the first sense defined above. For the second sense, we use _two_ equality signs. For example:"
   ]
  },
  {
   "cell_type": "code",
   "execution_count": 39,
   "metadata": {},
   "outputs": [
    {
     "name": "stdout",
     "output_type": "stream",
     "text": [
      "True\n",
      "False\n"
     ]
    }
   ],
   "source": [
    "# here we are giving a value to a with a single equality sign\n",
    "a = 3\n",
    "# here we are checking the value of a with two equality signs\n",
    "print(a == 3)\n",
    "\n",
    "# Now let's try with a false one!\n",
    "a = 4\n",
    "print(a == 3)"
   ]
  },
  {
   "cell_type": "markdown",
   "metadata": {},
   "source": [
    "## Data types and their operators"
   ]
  },
  {
   "cell_type": "markdown",
   "metadata": {},
   "source": [
    "Things in python can be of different _types_, and depending on what type they are you can do different things with them and use different operators. To check the type of any object, use the keyword `type`. For instance, the following tells us that `a` is a string (`'str'`) and that `b` is an integer (`'int'`):"
   ]
  },
  {
   "cell_type": "code",
   "execution_count": 29,
   "metadata": {},
   "outputs": [
    {
     "name": "stdout",
     "output_type": "stream",
     "text": [
      "a is of type:  <class 'str'>\n",
      "b is of type:  <class 'int'>\n"
     ]
    }
   ],
   "source": [
    "a = 'Hello Mr. Fodor!'\n",
    "print('a is of type: ', type(a))\n",
    "\n",
    "b = 12\n",
    "print('b is of type: ', type(b))"
   ]
  },
  {
   "cell_type": "markdown",
   "metadata": {},
   "source": [
    "Let's consider some important types one by one (not exhaustive!). "
   ]
  },
  {
   "cell_type": "markdown",
   "metadata": {},
   "source": [
    "### Strings: str"
   ]
  },
  {
   "cell_type": "markdown",
   "metadata": {},
   "source": [
    "We have already briefly seen strings above. Basically, you can use them to encode text. You can join multiple strings with `+`, as we saw above. You can also do loads of other stuff with strings!"
   ]
  },
  {
   "cell_type": "code",
   "execution_count": 46,
   "metadata": {},
   "outputs": [
    {
     "name": "stdout",
     "output_type": "stream",
     "text": [
      "This is a good string\n",
      "THIS IS A GOOD STRING\n"
     ]
    }
   ],
   "source": [
    "a = 'this is a good string'\n",
    "\n",
    "print(a.capitalize())\n",
    "print(a.swapcase())"
   ]
  },
  {
   "cell_type": "markdown",
   "metadata": {},
   "source": [
    "Etcetera. If you want to know more about what you can do with strings, have a look [here](https://docs.python.org/3/library/string.html)."
   ]
  },
  {
   "cell_type": "markdown",
   "metadata": {},
   "source": [
    "### Integers: int"
   ]
  },
  {
   "cell_type": "markdown",
   "metadata": {},
   "source": [
    "Integers are just numbers without a fractional part. They can be positive or negative. Note that there are limits to the size of integers in python (and to the size of variables of every other type, too).\n",
    "\n",
    "You can do with ints everything you'd expect to be able to do: "
   ]
  },
  {
   "cell_type": "code",
   "execution_count": 48,
   "metadata": {},
   "outputs": [
    {
     "name": "stdout",
     "output_type": "stream",
     "text": [
      "8\n",
      "-6\n",
      "False\n",
      "15\n",
      "3.0\n",
      "9\n"
     ]
    }
   ],
   "source": [
    "# add them\n",
    "print(3 + 5)\n",
    "\n",
    "# subtract them\n",
    "print(4 - 10)\n",
    "\n",
    "# check for equality\n",
    "print(3 == 5)\n",
    "\n",
    "# multiply them\n",
    "print(3 * 5)\n",
    "\n",
    "# divide them \n",
    "# NOTE: result is a float rather than an int\n",
    "print(6 / 2)\n",
    "\n",
    "# raise them to a power\n",
    "print(3 ** 2)"
   ]
  },
  {
   "cell_type": "markdown",
   "metadata": {},
   "source": [
    "### Floats: float"
   ]
  },
  {
   "cell_type": "markdown",
   "metadata": {},
   "source": [
    "Intuitively, these are numbers with a comma. You can do with them everything you can do with integers, and it behaves as you'd expect. Moreover, note that equality doesn't care about the type:"
   ]
  },
  {
   "cell_type": "code",
   "execution_count": 50,
   "metadata": {},
   "outputs": [
    {
     "name": "stdout",
     "output_type": "stream",
     "text": [
      "<class 'int'>\n",
      "<class 'float'>\n",
      "True\n"
     ]
    }
   ],
   "source": [
    "a = 3\n",
    "print(type(a))\n",
    "\n",
    "b = 3.0\n",
    "print(type(b))\n",
    "\n",
    "print(a == b)"
   ]
  },
  {
   "cell_type": "markdown",
   "metadata": {
    "tags": []
   },
   "source": [
    "### Lists: list"
   ]
  },
  {
   "cell_type": "markdown",
   "metadata": {},
   "source": [
    "You can think of lists as ordered sets of values of any type. \n",
    "\n",
    "You can define them as follows:"
   ]
  },
  {
   "cell_type": "code",
   "execution_count": 51,
   "metadata": {},
   "outputs": [
    {
     "name": "stdout",
     "output_type": "stream",
     "text": [
      "<class 'list'>\n"
     ]
    }
   ],
   "source": [
    "# create a list \n",
    "# whose first value is 1,\n",
    "# whose second value is 2,\n",
    "# and whose third value is 3\n",
    "a = [1, 2, 3]\n",
    "\n",
    "print(type(a))"
   ]
  },
  {
   "cell_type": "markdown",
   "metadata": {},
   "source": [
    "You can add a value to the end of a list with the keyword `append`, as follows:"
   ]
  },
  {
   "cell_type": "code",
   "execution_count": 55,
   "metadata": {},
   "outputs": [
    {
     "name": "stdout",
     "output_type": "stream",
     "text": [
      "['first', 'second', 'third']\n"
     ]
    }
   ],
   "source": [
    "# first define a list with two strings\n",
    "a = ['first', 'second']\n",
    "# add a new string to the end of the list\n",
    "a.append('third')\n",
    "print(a)"
   ]
  },
  {
   "cell_type": "markdown",
   "metadata": {},
   "source": [
    "You can also access elements of a list as follows:"
   ]
  },
  {
   "cell_type": "code",
   "execution_count": 3,
   "metadata": {},
   "outputs": [
    {
     "name": "stdout",
     "output_type": "stream",
     "text": [
      "first\n",
      "second\n",
      "third\n"
     ]
    }
   ],
   "source": [
    "a = ['first', 'second', 'third']\n",
    "\n",
    "# get the first element of the list\n",
    "# NOTE: the index of the first element is 0!\n",
    "print(a[0])\n",
    "\n",
    "# get the second element\n",
    "print(a[1])\n",
    "\n",
    "# try to get the fourth element\n",
    "# (note that the list only has three elements!)\n",
    "print(a[2])"
   ]
  },
  {
   "cell_type": "markdown",
   "metadata": {},
   "source": [
    "### Boolean: bool"
   ]
  },
  {
   "cell_type": "markdown",
   "metadata": {},
   "source": [
    "Boolean values are truth values, and there's two of them: `True` and `False`. We can manipulate Booleans as you learned in logic 1. For instance, we can use the Boolean operators to calculate a function of multiple Boolean values:"
   ]
  },
  {
   "cell_type": "code",
   "execution_count": 36,
   "metadata": {},
   "outputs": [
    {
     "name": "stdout",
     "output_type": "stream",
     "text": [
      "False\n",
      "True\n",
      "True\n",
      "False\n",
      "True\n",
      "False\n"
     ]
    }
   ],
   "source": [
    "print(not True)\n",
    "print(not False)\n",
    "print(True and True)\n",
    "print(True and False)\n",
    "print(True or False)\n",
    "print(False or False)"
   ]
  },
  {
   "cell_type": "markdown",
   "metadata": {},
   "source": [
    "Some expressions in python (e.g., ones containing equality) _are_ Boolean values. For instance, the whole expression `3==(1+2)` is just the Boolean value `True`:"
   ]
  },
  {
   "cell_type": "code",
   "execution_count": 32,
   "metadata": {},
   "outputs": [
    {
     "name": "stdout",
     "output_type": "stream",
     "text": [
      "True\n",
      "True\n"
     ]
    }
   ],
   "source": [
    "a = 3 == (1+2)\n",
    "print(a)\n",
    "print(a is True)"
   ]
  },
  {
   "cell_type": "markdown",
   "metadata": {},
   "source": [
    "## Conditionals"
   ]
  },
  {
   "cell_type": "markdown",
   "metadata": {},
   "source": [
    "Suppose you want one thing to happen if a condition obtains and another thing to happen if it doesn't. We can use the 'if-else' construction to achieve this. The way it works is:\n",
    "- The first line of the if-else construct is like:\n",
    "```\n",
    "if <condition>:\n",
    "```\n",
    "where `<condition>` is some expression with a Boolean value.\n",
    "- Then there is one or more lines of indented code with the stuff you want to happen if the condition obtains.\n",
    "- Then optionally there is a line that says:\n",
    "```\n",
    "else:\n",
    "```\n",
    "followed by one or more lines of indented code with the code you want to run if the condition does _not_ hold.\n",
    "\n",
    "For instance, suppose you want to print `The variable is true` if a variable has Boolean value True and print `The variable is false` otherwise. You can do it as follows:"
   ]
  },
  {
   "cell_type": "code",
   "execution_count": 26,
   "metadata": {},
   "outputs": [
    {
     "name": "stdout",
     "output_type": "stream",
     "text": [
      "The variable is true\n"
     ]
    }
   ],
   "source": [
    "a_boolean_variable = True\n",
    "\n",
    "if a_boolean_variable:\n",
    "    print('The variable is true')\n",
    "else:\n",
    "    print('The variable is false')"
   ]
  },
  {
   "cell_type": "markdown",
   "metadata": {},
   "source": [
    "## `for` loops"
   ]
  },
  {
   "cell_type": "markdown",
   "metadata": {},
   "source": [
    "Suppose you want to go through the elements of a list one by one. One way to do it would be to just do it by hand. But for long lists that would become impractical, and the point of programming is automation. A better way is to use a _for_ loop. The idea is that you run some piece of code repeatedly, and a variables you specify takes on each value in the list in turn. \n",
    "\n",
    "The syntax to do this is:\n",
    "1. The first line of the loop says `for <varname> in <list>`, where `<varname>` is the name of a (new) variable and `<list>` is a list.\n",
    "1. Then there is one or more lines of indented code, a so-called _block_ of code. The code in the block is called one for every element of the list, and the variable `<varname>` takes on each value of the list in turn.\n",
    "\n",
    "To see how this works, suppose we have a list of words and we want to print each word along with its index in the list. We could do it as follows:"
   ]
  },
  {
   "cell_type": "code",
   "execution_count": 24,
   "metadata": {},
   "outputs": [
    {
     "name": "stdout",
     "output_type": "stream",
     "text": [
      "0 first\n",
      "1 second\n",
      "2 third\n"
     ]
    }
   ],
   "source": [
    "useful_list = ['first', 'second', 'third']\n",
    "for i in [0,1,2]:\n",
    "    print(i, useful_list[i])"
   ]
  },
  {
   "cell_type": "markdown",
   "metadata": {},
   "source": [
    "## Some other important keywords"
   ]
  },
  {
   "cell_type": "markdown",
   "metadata": {},
   "source": [
    "`range`: Often, we want to loop over successive integers. `range` allows us to do this easily. Specifically, suppose we want to loop from number 0 to number 9. Then we could write `for i in range(10)`. Let's test it:"
   ]
  },
  {
   "cell_type": "code",
   "execution_count": 20,
   "metadata": {},
   "outputs": [
    {
     "name": "stdout",
     "output_type": "stream",
     "text": [
      "0\n",
      "1\n",
      "2\n",
      "3\n",
      "4\n",
      "5\n",
      "6\n",
      "7\n",
      "8\n",
      "9\n"
     ]
    }
   ],
   "source": [
    "for i in range(10):\n",
    "    print(i)"
   ]
  },
  {
   "cell_type": "markdown",
   "metadata": {},
   "source": [
    "Note how `range(n)` loop from 0 to $n-1$ rather than from 0 to $n$!\n",
    "\n",
    "However, suppose we want to start from number $m$ rather than starting from 0. `range` can do this too. We just need to write `range(m, n)` and we can loop from $m$ to $n-1$. Let's try it:"
   ]
  },
  {
   "cell_type": "code",
   "execution_count": 21,
   "metadata": {},
   "outputs": [
    {
     "name": "stdout",
     "output_type": "stream",
     "text": [
      "10\n",
      "11\n",
      "12\n",
      "13\n",
      "14\n",
      "15\n"
     ]
    }
   ],
   "source": [
    "for i in range(10, 16):\n",
    "    print(i)"
   ]
  },
  {
   "cell_type": "markdown",
   "metadata": {},
   "source": [
    "Finally, suppose we don't want all the integers, but only every three integers. Then we can write `range(m, n, 3)`. Let's test this:"
   ]
  },
  {
   "cell_type": "code",
   "execution_count": 23,
   "metadata": {},
   "outputs": [
    {
     "name": "stdout",
     "output_type": "stream",
     "text": [
      "10\n",
      "13\n",
      "16\n",
      "19\n",
      "22\n",
      "25\n",
      "28\n"
     ]
    }
   ],
   "source": [
    "for i in range(10, 30, 3):\n",
    "    print(i)"
   ]
  },
  {
   "cell_type": "markdown",
   "metadata": {},
   "source": [
    "`enumerate`: Recall the code above where we printed each word in a list of words along with its index. Wouldn't it be cool if there was a way of getting the word _along with_ the index, without having to take the word from the index? There is! That's what `enumerate` is for. We use it as follows:"
   ]
  },
  {
   "cell_type": "code",
   "execution_count": 25,
   "metadata": {},
   "outputs": [
    {
     "name": "stdout",
     "output_type": "stream",
     "text": [
      "0 first\n",
      "1 second\n",
      "2 third\n"
     ]
    }
   ],
   "source": [
    "for i, word in enumerate(['first', 'second', 'third']):\n",
    "    print(i, word)"
   ]
  },
  {
   "cell_type": "markdown",
   "metadata": {},
   "source": [
    "`import`: While 'base' python defines some useful by default (e.g., all the stuff we've seen above), often you'll need to use functions and other things that are not defined in python by default. One option is to write them yourself, but often someone else has done that already, and if that someone else was organized enough, they put it in a library and now we can use it too! The way we do it is by first installing the library (there's various ways of doing this, but I'll mostly do it for you in this course) and then calling `import <libraryname>`, where `<libraryname>` stands for the name of the library you want to import."
   ]
  },
  {
   "cell_type": "markdown",
   "metadata": {},
   "source": [
    "## The meaning of the dot '.'"
   ]
  },
  {
   "cell_type": "markdown",
   "metadata": {},
   "source": [
    "You'll see that in python you often write things like `foo.bar`, where `foo` and `bar` are some words. The meaning of the dot is that you are accessing an attribute (e.g., `bar`) from an object (e.g., `foo`). E.g., it could be something like `person.age` or `person.calculate_age()`, where you are accessing the attribute `age` from the object `person`. \n",
    "\n",
    "Objects can be all sorts of things in python (and you use the dot for things that aren't objects, too), and this is a huge topic. But I hope that this gives you a first intuition.\n",
    "\n",
    "In practice, you'll soon encounter this when using a library. After we import a library, e.g., we import numpy with `import numpy as np`, we can access the things defined within the library with the dot notation. For instance, if we want to get the function `sum` from numpy, we could write `np.sum`"
   ]
  },
  {
   "cell_type": "markdown",
   "metadata": {},
   "source": [
    "## Some exercises"
   ]
  },
  {
   "cell_type": "markdown",
   "metadata": {},
   "source": [
    "Please make sure you can do these exercises:\n",
    "1. Write a loop that prints the characters in the string 'Fodor was a great writer'. The output should be:\n",
    "\n",
    "```\n",
    "F\n",
    "o\n",
    "d\n",
    "o\n",
    "r\n",
    " \n",
    "w\n",
    "a\n",
    "s\n",
    "```\n",
    "etc.\n",
    "\n",
    "2. Write a conditional that prints 'Odd' if a variable's value is odd and 'Even' otherwise.\n",
    "1. Write a loop that prints the first 50 even numbers.\n",
    "1. Write a loop that given a string prints each character in the string twice.\n",
    "1. Print the first 20 even numbers without calling `range` with three arguments."
   ]
  },
  {
   "cell_type": "markdown",
   "metadata": {},
   "source": [
    "## Importing and using libraries"
   ]
  },
  {
   "cell_type": "markdown",
   "metadata": {},
   "source": [
    "### What is a library?"
   ]
  },
  {
   "cell_type": "markdown",
   "metadata": {},
   "source": [
    "Roughly, a library is a collection of useful stuff. This can include functions / variables / classes / other stuff. For instance, to do maths in python we usually import the 'numpy' library, to do plotting we use 'matplotlib' or 'seaborn', etc. LOTlib3, which we will use in the second half of this course, is one such library.\n",
    "\n",
    "Using libraries allows us to not rewrite stuff that someone else has already written."
   ]
  },
  {
   "cell_type": "markdown",
   "metadata": {},
   "source": [
    "### How do we import and use libraries?"
   ]
  },
  {
   "cell_type": "markdown",
   "metadata": {},
   "source": [
    "To import a library we write `import` follows by the name of the library, as follows:\n",
    "```python\n",
    "import numpy\n",
    "```"
   ]
  },
  {
   "cell_type": "markdown",
   "metadata": {},
   "source": [
    "To use the stuff in the library we use the library name followed by a dot followed by the name of what we want from the library. For instance:\n",
    "```python\n",
    "numpy.pi\n",
    "```\n",
    "to get the number $\\pi$.\n",
    "\n",
    "However, often we do not want to use the full name of the library, but rather some abbreviation. In this case, we can write as follows:\n",
    "```python\n",
    "import numpy as np\n",
    "```"
   ]
  },
  {
   "cell_type": "code",
   "execution_count": 1,
   "metadata": {},
   "outputs": [],
   "source": [
    "import numpy as np"
   ]
  },
  {
   "cell_type": "markdown",
   "metadata": {},
   "source": [
    "and then we can just write:\n",
    "```python\n",
    "np.pi\n",
    "```\n",
    "which is shorter."
   ]
  },
  {
   "cell_type": "code",
   "execution_count": 65,
   "metadata": {},
   "outputs": [
    {
     "data": {
      "text/plain": [
       "3.141592653589793"
      ]
     },
     "execution_count": 65,
     "metadata": {},
     "output_type": "execute_result"
    }
   ],
   "source": [
    "np.pi"
   ]
  },
  {
   "cell_type": "markdown",
   "metadata": {},
   "source": [
    "If we do not want the full library but rather just one thing from it, we can write:\n",
    "```python\n",
    "from numpy import pi\n",
    "```\n",
    "and then we can just use `pi` directly without needing the `np.`. "
   ]
  },
  {
   "cell_type": "code",
   "execution_count": 66,
   "metadata": {},
   "outputs": [],
   "source": [
    "from numpy import pi"
   ]
  },
  {
   "cell_type": "code",
   "execution_count": 67,
   "metadata": {},
   "outputs": [
    {
     "data": {
      "text/plain": [
       "3.141592653589793"
      ]
     },
     "execution_count": 67,
     "metadata": {},
     "output_type": "execute_result"
    }
   ],
   "source": [
    "pi"
   ]
  },
  {
   "cell_type": "markdown",
   "metadata": {},
   "source": [
    "## Functions"
   ]
  },
  {
   "cell_type": "markdown",
   "metadata": {},
   "source": [
    "### Motivation"
   ]
  },
  {
   "cell_type": "markdown",
   "metadata": {},
   "source": [
    "Often when programming you repeatedly need some code that 'does the same thing', e.g. multiply two numbers, or take a string and transform it in some way. You can think of a function in python as a way of dealing with this without having to repeatedly write the same code (this is not all that a function is good for, but it is one thing that functions are good for). Basically, you give a name to the 'piece of code' that you repeatedly need, and use the name instead of the code itself.\n",
    "\n",
    "Let's look at an example to understand this better. Suppose you have to write some code that takes a string, changes the first letter to 'A', and returns the first 10 characters. You can write it as follows:"
   ]
  },
  {
   "cell_type": "code",
   "execution_count": 4,
   "metadata": {},
   "outputs": [
    {
     "name": "stdout",
     "output_type": "stream",
     "text": [
      "Aello worl\n"
     ]
    }
   ],
   "source": [
    "string = 'hello world'\n",
    "string = 'A' + string[1:]\n",
    "string = string[:10]\n",
    "print(string)"
   ]
  },
  {
   "cell_type": "markdown",
   "metadata": {},
   "source": [
    "Now suppose that you need to perform the procedure above for each element in a list of strings. You can do this by putting the code above in a loop:"
   ]
  },
  {
   "cell_type": "code",
   "execution_count": 5,
   "metadata": {},
   "outputs": [
    {
     "name": "stdout",
     "output_type": "stream",
     "text": [
      "['Aello worl', 'Aonversati', 'Aoodbye wo']\n"
     ]
    }
   ],
   "source": [
    "strings = ['hello world', 'conversation world', 'goodbye world']\n",
    "results = []\n",
    "for string in strings:\n",
    "    string = 'A' + string[1:]\n",
    "    string = string[:10]\n",
    "    results.append(string)\n",
    "print(results)"
   ]
  },
  {
   "cell_type": "markdown",
   "metadata": {},
   "source": [
    "But now suppose that you don't know a priori whether you're getting a list or a single word, and you need to adapt. One natural way to do it would be:"
   ]
  },
  {
   "cell_type": "code",
   "execution_count": 6,
   "metadata": {},
   "outputs": [
    {
     "name": "stdout",
     "output_type": "stream",
     "text": [
      "Ala bla bl\n"
     ]
    }
   ],
   "source": [
    "variable = 'bla bla bla'\n",
    "\n",
    "# check if the variable is a list\n",
    "if type(variable) is list:\n",
    "    for string in variable:\n",
    "        string = 'A' + string[1:]\n",
    "        string = string[:10]\n",
    "        results.append(string)\n",
    "    print(results)\n",
    "else:\n",
    "    variable = 'A' + variable[1:]\n",
    "    variable = variable[:10]\n",
    "    print(variable)"
   ]
  },
  {
   "cell_type": "markdown",
   "metadata": {},
   "source": [
    "But notes that some lines are repeated, namely\n",
    "```python\n",
    "string = 'A' + string[1:]\n",
    "string = string[:10]\n",
    "```\n",
    "We would like a way to only write them once and use them in two places. A natural solution to this is a function that takes a string and performs the transformation we want."
   ]
  },
  {
   "cell_type": "markdown",
   "metadata": {},
   "source": [
    "### Standard function definition in python"
   ]
  },
  {
   "cell_type": "markdown",
   "metadata": {},
   "source": [
    "To define a function in python we do the following:\n",
    "- start with the keyword `def`\n",
    "- followed by the name of the function\n",
    "- followed by an open `(` \n",
    "- followed by zero or more arguments divided by commas\n",
    "- followed by `):`\n",
    "- followed by one or more lines at the next indentation level \n",
    "- In the points where you want a function to return a value, you can optionally put a `return` statement followed by the value you want the function to return.\n",
    "\n",
    "For instance:\n",
    "```python\n",
    "def name(argument1, argument2):\n",
    "    first line in function\n",
    "    second line in function\n",
    "    return value\n",
    "```"
   ]
  },
  {
   "cell_type": "markdown",
   "metadata": {},
   "source": [
    "To solve the problem above we could use:"
   ]
  },
  {
   "cell_type": "code",
   "execution_count": 8,
   "metadata": {},
   "outputs": [],
   "source": [
    "def transform_string(string_to_transform):\n",
    "    string_to_transform = 'A' + string_to_transform[1:]\n",
    "    string_to_transform = string_to_transform[:10]\n",
    "    return string_to_transform"
   ]
  },
  {
   "cell_type": "markdown",
   "metadata": {},
   "source": [
    "### Calling a function"
   ]
  },
  {
   "cell_type": "markdown",
   "metadata": {},
   "source": [
    "Then, we can rewrite the above as:"
   ]
  },
  {
   "cell_type": "code",
   "execution_count": 9,
   "metadata": {},
   "outputs": [
    {
     "name": "stdout",
     "output_type": "stream",
     "text": [
      "Aoodbye wo\n"
     ]
    }
   ],
   "source": [
    "variable = 'bla bla bla'\n",
    "\n",
    "# check if the variable is a list\n",
    "if type(variable) is list:\n",
    "    for string in variable:\n",
    "        results.append(transform_string(string))\n",
    "    print(results)\n",
    "else:\n",
    "    print(transform_string(string))"
   ]
  },
  {
   "cell_type": "markdown",
   "metadata": {},
   "source": [
    "Basically what we have done it _called_ a function on a certain input (`transform_string(string)`), which is the same as running the input through the code in the function and getting the return values of the function.\n",
    "\n",
    "Now we only repeat one word rather than several lines, and also if it turns out we want to change the transformation later, we only need to do it once rather than changing it independently multiple times!"
   ]
  },
  {
   "cell_type": "markdown",
   "metadata": {},
   "source": [
    "### $\\lambda$ ('lambda') functions"
   ]
  },
  {
   "cell_type": "markdown",
   "metadata": {},
   "source": [
    "At this point it is worth mentioning that there is another notation for defining functions that doesn't use the `def` keyword. Namely, we write `lambda` followed by a space, zero or more comma-separated arguments, a colon, and a single statement.\n",
    "\n",
    "For example, suppose we want to sum two variables. We could define a function that does it as follows:"
   ]
  },
  {
   "cell_type": "code",
   "execution_count": 11,
   "metadata": {},
   "outputs": [
    {
     "name": "stdout",
     "output_type": "stream",
     "text": [
      "5\n"
     ]
    }
   ],
   "source": [
    "sum_function = lambda x, y: x+y\n",
    "\n",
    "print(sum_function(2, 3))"
   ]
  },
  {
   "cell_type": "markdown",
   "metadata": {},
   "source": [
    "One case where this might be useful is in conjunction with `map`, which is an operation that takes two arguments, a function and a list, and applies the function to each element of the list. E.g., in the following example:"
   ]
  },
  {
   "cell_type": "code",
   "execution_count": 17,
   "metadata": {},
   "outputs": [
    {
     "data": {
      "text/plain": [
       "[3, 8, 4]"
      ]
     },
     "execution_count": 17,
     "metadata": {},
     "output_type": "execute_result"
    }
   ],
   "source": [
    "list(map(\n",
    "    lambda x: x[0]+x[1], \n",
    "    [[1,2], [4, 4], [1,3]]\n",
    "))"
   ]
  },
  {
   "cell_type": "markdown",
   "metadata": {},
   "source": [
    "Lambda functions are usually a slightly more advanced topic, but they'll come up a lot in the rest of the course, so it's good to start getting used to them already."
   ]
  },
  {
   "cell_type": "markdown",
   "metadata": {},
   "source": [
    "### Recursive functions"
   ]
  },
  {
   "cell_type": "markdown",
   "metadata": {},
   "source": [
    "This is a slighlty mindbending concept: functions can _call themselves_. This means that inside a function $f$, $f$ itself can be called and the return value can be used inside $f$. Of course, this can easily lead to functions that never terminate, but rather keep calling themselves, forever increasing the level of nested calls. For instance, try to think what is happening here:"
   ]
  },
  {
   "cell_type": "code",
   "execution_count": 2,
   "metadata": {},
   "outputs": [
    {
     "ename": "RecursionError",
     "evalue": "maximum recursion depth exceeded",
     "output_type": "error",
     "traceback": [
      "\u001b[0;31m---------------------------------------------------------------------------\u001b[0m",
      "\u001b[0;31mRecursionError\u001b[0m                            Traceback (most recent call last)",
      "Input \u001b[0;32mIn [2]\u001b[0m, in \u001b[0;36m<cell line: 5>\u001b[0;34m()\u001b[0m\n\u001b[1;32m      2\u001b[0m     y \u001b[38;5;241m=\u001b[39m x\u001b[38;5;241m+\u001b[39m\u001b[38;5;241m1\u001b[39m\n\u001b[1;32m      3\u001b[0m     bad_recursive_function(y)\n\u001b[0;32m----> 5\u001b[0m \u001b[43mbad_recursive_function\u001b[49m\u001b[43m(\u001b[49m\u001b[38;5;241;43m1\u001b[39;49m\u001b[43m)\u001b[49m\n",
      "Input \u001b[0;32mIn [2]\u001b[0m, in \u001b[0;36mbad_recursive_function\u001b[0;34m(x)\u001b[0m\n\u001b[1;32m      1\u001b[0m \u001b[38;5;28;01mdef\u001b[39;00m \u001b[38;5;21mbad_recursive_function\u001b[39m(x):\n\u001b[1;32m      2\u001b[0m     y \u001b[38;5;241m=\u001b[39m x\u001b[38;5;241m+\u001b[39m\u001b[38;5;241m1\u001b[39m\n\u001b[0;32m----> 3\u001b[0m     \u001b[43mbad_recursive_function\u001b[49m\u001b[43m(\u001b[49m\u001b[43my\u001b[49m\u001b[43m)\u001b[49m\n",
      "Input \u001b[0;32mIn [2]\u001b[0m, in \u001b[0;36mbad_recursive_function\u001b[0;34m(x)\u001b[0m\n\u001b[1;32m      1\u001b[0m \u001b[38;5;28;01mdef\u001b[39;00m \u001b[38;5;21mbad_recursive_function\u001b[39m(x):\n\u001b[1;32m      2\u001b[0m     y \u001b[38;5;241m=\u001b[39m x\u001b[38;5;241m+\u001b[39m\u001b[38;5;241m1\u001b[39m\n\u001b[0;32m----> 3\u001b[0m     \u001b[43mbad_recursive_function\u001b[49m\u001b[43m(\u001b[49m\u001b[43my\u001b[49m\u001b[43m)\u001b[49m\n",
      "    \u001b[0;31m[... skipping similar frames: bad_recursive_function at line 3 (2970 times)]\u001b[0m\n",
      "Input \u001b[0;32mIn [2]\u001b[0m, in \u001b[0;36mbad_recursive_function\u001b[0;34m(x)\u001b[0m\n\u001b[1;32m      1\u001b[0m \u001b[38;5;28;01mdef\u001b[39;00m \u001b[38;5;21mbad_recursive_function\u001b[39m(x):\n\u001b[1;32m      2\u001b[0m     y \u001b[38;5;241m=\u001b[39m x\u001b[38;5;241m+\u001b[39m\u001b[38;5;241m1\u001b[39m\n\u001b[0;32m----> 3\u001b[0m     \u001b[43mbad_recursive_function\u001b[49m\u001b[43m(\u001b[49m\u001b[43my\u001b[49m\u001b[43m)\u001b[49m\n",
      "\u001b[0;31mRecursionError\u001b[0m: maximum recursion depth exceeded"
     ]
    }
   ],
   "source": [
    "def bad_recursive_function(x):\n",
    "    y = x+1\n",
    "    bad_recursive_function(y)\n",
    "    \n",
    "bad_recursive_function(1)"
   ]
  },
  {
   "cell_type": "markdown",
   "metadata": {},
   "source": [
    "Thankfully, python has a way of preventing the function running infinitely and automatically raises an error after a certain number of nested calls. You can see it here as `RecursionError: maximum recursion depth exceeded`."
   ]
  },
  {
   "cell_type": "markdown",
   "metadata": {},
   "source": [
    "Usually, recursive functions are conceptualized as follows:\n",
    "- There is one or more 'base case', i.e. an input for which the function simply calculates a return value without calling the function itself.\n",
    "- There are 'complex' cases where the input to the function is somehow 'simplified' and the function is called with the simplified input. Eventually after enough 'simplification' steps the input reduces to a base case, and recursion stops."
   ]
  },
  {
   "cell_type": "markdown",
   "metadata": {},
   "source": [
    "A classic case of recursion is the following formulation of the $n$th Fibonacci numbers:\n",
    "- If $n$ is 0 or 1 (i.e., the first or second Fibonacci number), return 1\n",
    "- If $n$ is greater than 1, return the $n$th-2 Fibonacci number + the $n$th-1 Fibonacci number"
   ]
  },
  {
   "cell_type": "code",
   "execution_count": 34,
   "metadata": {},
   "outputs": [
    {
     "name": "stdout",
     "output_type": "stream",
     "text": [
      "1,1,2,3,5,8,13,21,34,55,89,144,233,377,610,987,1597,2584,4181,6765,10946,17711,28657,46368,75025,121393,196418,317811,514229,832040,"
     ]
    }
   ],
   "source": [
    "def calculate_fibonacci(n):\n",
    "    # there are two base cases here!\n",
    "    if n==0 or n==1:\n",
    "        # in both base cases, just return 1\n",
    "        return 1\n",
    "    else:\n",
    "        # otherwise, follow the recursive rule\n",
    "        return calculate_fibonacci(n-2) + calculate_fibonacci(n-1)\n",
    "\n",
    "for i in range(30):\n",
    "    print(calculate_fibonacci(i), end=',')"
   ]
  },
  {
   "cell_type": "markdown",
   "metadata": {},
   "source": [
    "There is a lot to say about recursive functions and how they work, but for now try to really understand how the one above works. If you really understand that simple case, other ones are going to be easy."
   ]
  },
  {
   "cell_type": "markdown",
   "metadata": {},
   "source": [
    "## Functions as objects"
   ]
  },
  {
   "cell_type": "markdown",
   "metadata": {},
   "source": [
    "We have refreshed briefly how to define functions above. Functions in python are _first class citizens_, meaning that they can be treated as objects themselves: passed as arguments of functions, destroyed, transformed in all the same ways as other objects. \n",
    "\n",
    "Let's see a simple example. Suppose that you have a function $f$ that takes an integer and returns an integer, but you don't know exactly what it does to that integer. But whatever it does, you want another function that does the same thing as $f$ but then adds 3 to the result. \n",
    "\n",
    "Well, we can define a function $g$ that takes a function $f$ _as an argument_ and returns another function from integer to integer, that first calls $f$ on the integer and then adds three:"
   ]
  },
  {
   "cell_type": "code",
   "execution_count": 52,
   "metadata": {},
   "outputs": [],
   "source": [
    "def modify_f(func):\n",
    "    # define a function that runs func and then adds 3\n",
    "    def g(n):\n",
    "        return func(n) + 3\n",
    "    # return that function\n",
    "    return g"
   ]
  },
  {
   "cell_type": "markdown",
   "metadata": {},
   "source": [
    "Let's see `modify_f` in action:"
   ]
  },
  {
   "cell_type": "code",
   "execution_count": 54,
   "metadata": {},
   "outputs": [
    {
     "data": {
      "text/plain": [
       "11"
      ]
     },
     "execution_count": 54,
     "metadata": {},
     "output_type": "execute_result"
    }
   ],
   "source": [
    "# define an f that take an int and returns an int\n",
    "# (namely, the argument multiplied by two)\n",
    "f = lambda x: x * 2\n",
    "\n",
    "# get a modified function by running\n",
    "# g through modify_f\n",
    "modified_f = modify_f(f)\n",
    "\n",
    "# call the modified function\n",
    "# on an example\n",
    "modified_f(4)"
   ]
  },
  {
   "cell_type": "markdown",
   "metadata": {},
   "source": [
    "The point of this example is that `modify_f` takes _a function_ as an input and return _a function_ as an output. You can use manipulate functions like that!"
   ]
  },
  {
   "cell_type": "markdown",
   "metadata": {},
   "source": [
    "## Recursion without recursion (note: more difficult!)"
   ]
  },
  {
   "cell_type": "markdown",
   "metadata": {},
   "source": [
    "(For more explanation on the material in this section, see [this page](https://www.lambdacircle.com/the-y-and-z-combinators-in-python/))\n",
    "\n",
    "Note that things become complicated easily when we work with functions that take other functions as inputs. In those cases, you can define functions that _take themselves_ (as well as other arguments). This actually allows us to do surprising things, like have the same power as recursion without using recursion directly, i.e., without calling a function in its own definition.\n",
    "\n",
    "For instance, consider the following function, which as you can see is not strictly speaking recursive:"
   ]
  },
  {
   "cell_type": "code",
   "execution_count": 43,
   "metadata": {},
   "outputs": [],
   "source": [
    "def strange_fibonacci(f):\n",
    "    # takes a function f and\n",
    "    # defines a new function \n",
    "    # whose behaviour depends on\n",
    "    # the input function f\n",
    "    def g(n):\n",
    "        if n == 0 or n == 1:\n",
    "            return 1\n",
    "        else:\n",
    "            return f(f)(n-1) + f(f)(n-2)\n",
    "    return g"
   ]
  },
  {
   "cell_type": "markdown",
   "metadata": {},
   "source": [
    "And now consider the following function which in a way encodes the recursion bit (but without being explicitly recursive: it's not calling itself in its own definition):"
   ]
  },
  {
   "cell_type": "code",
   "execution_count": 44,
   "metadata": {},
   "outputs": [],
   "source": [
    "# takes a function, calls the function on itself\n",
    "recursive_function = lambda f: f(f)"
   ]
  },
  {
   "cell_type": "markdown",
   "metadata": {},
   "source": [
    "What `recursive_function` does is call a function on itself.\n",
    "\n",
    "When called with `strange_fibonacci` as an argument, it will effectively calculate `strange_fibonaccy(strange_fibonacci)`, and this will return the following function:\n",
    "```python\n",
    "def g(n):\n",
    "        if n == 0 or n == 1:\n",
    "            return 1\n",
    "        else:\n",
    "            return (\n",
    "                strange_fibonacci(strange_fibonacci)(n-1) + \n",
    "                strange_fibonacci(strange_fibonacci)(n-2)\n",
    "            )\n",
    "```\n",
    "which, when called with a specific integer, will define new `g`s and call them in a nested way.\n",
    "\n",
    "Let's test it with a specific number:"
   ]
  },
  {
   "cell_type": "code",
   "execution_count": 46,
   "metadata": {},
   "outputs": [
    {
     "data": {
      "text/plain": [
       "89"
      ]
     },
     "execution_count": 46,
     "metadata": {},
     "output_type": "execute_result"
    }
   ],
   "source": [
    "recursive_function(strange_fibonacci)(10)"
   ]
  },
  {
   "cell_type": "markdown",
   "metadata": {},
   "source": [
    "Can you figure out _exactly_ what is happening here? It's a bit mindbending."
   ]
  },
  {
   "cell_type": "markdown",
   "metadata": {},
   "source": [
    "We can also get rid of the `f(f)` inside `strange_fibonacci`, since it still kind of feels like a type of recursion. To do that, we define the following function:"
   ]
  },
  {
   "cell_type": "code",
   "execution_count": 55,
   "metadata": {},
   "outputs": [],
   "source": [
    "apply_inside = lambda f: lambda g: f(lambda y: g(g)(y))"
   ]
  },
  {
   "cell_type": "markdown",
   "metadata": {},
   "source": [
    "How does `apply_inside` work?\n",
    "\n",
    "- You pass it some function $f$ ($f$ takes a function as argument), and it returns another function, let's call it $h$.\n",
    "- $h$ (i.e., the return value of `apply_inside`) is defined as `lambda g: f(lambda y: g(g)(y)`, and so it is a function:\n",
    "    - from a function $g$ \n",
    "    - to the result of calling $f$ (the original argument) on `lambda y: g(g)(y)`\n",
    "\n",
    "This might become clearer with an example. Let's define another version of our strange fibonacci function, this time without the `f(f)` bit:"
   ]
  },
  {
   "cell_type": "code",
   "execution_count": 59,
   "metadata": {},
   "outputs": [],
   "source": [
    "def strange_fibonacci(f):\n",
    "    # takes a function f and\n",
    "    # defines a new function \n",
    "    # whose behaviour depends on\n",
    "    # the input function f\n",
    "    def g(n):\n",
    "        if n == 0 or n == 1:\n",
    "            return 1\n",
    "        else:\n",
    "            return f(n-1) + f(n-2)\n",
    "    return g"
   ]
  },
  {
   "cell_type": "markdown",
   "metadata": {},
   "source": [
    "Now consider `apply_inside(strange_fibonacci)`. How does it work? Well, we know from the definition of `apply_inside` that it will have value:\n",
    "\n",
    "`apply_inside(strange_fibonacci)` = `lambda g: strange_fibonacci(lambda y: g(g)(y))`"
   ]
  },
  {
   "cell_type": "markdown",
   "metadata": {},
   "source": [
    "Note that now the argument of `strange_fibonacci` is `lambda y: g(g)(y)`, which is a function from a number to a function applied to itself and then to the number. Within `strange_fibonacci`, the input function appears in the line `return f(n-1) + f(n-2)`, which becomes:\n",
    "- `return (lambda y: g(g)(y))(n-1) + (lambda y: g(g)(y))(n-2)`\n",
    "\n",
    "and therefore:\n",
    "- `return g(g)(n-1) + g(g)(n-2)`\n",
    "\n",
    "And this is just a version of the `f(f)` bit we had at the beginning, which we have now successfully isolated into its own function (apply inside)!\n",
    "\n",
    "Let's make sure this works:"
   ]
  },
  {
   "cell_type": "code",
   "execution_count": 60,
   "metadata": {},
   "outputs": [
    {
     "data": {
      "text/plain": [
       "89"
      ]
     },
     "execution_count": 60,
     "metadata": {},
     "output_type": "execute_result"
    }
   ],
   "source": [
    "recursive_function(apply_inside(strange_fibonacci))(10)"
   ]
  },
  {
   "cell_type": "markdown",
   "metadata": {},
   "source": [
    "This section was a bit mental gymnastics to give you an idea of how messy things can get when higher-order functions are involved (i.e., function that take functions as arguments). We will see a lot of higher-order functions in the rest of the semester, so try to become comfortable with them!"
   ]
  },
  {
   "cell_type": "markdown",
   "metadata": {},
   "source": [
    "## Plotting in Matplotlib"
   ]
  },
  {
   "cell_type": "markdown",
   "metadata": {},
   "source": [
    "Since we'll be want to plot things in the second half of the course, it makes sense to introduce some simple cases now. We'll be using the most popular plotting library for python, `matplotlib`. We usually import it as follows:"
   ]
  },
  {
   "cell_type": "code",
   "execution_count": 62,
   "metadata": {},
   "outputs": [],
   "source": [
    "import matplotlib.pyplot as plt"
   ]
  },
  {
   "cell_type": "markdown",
   "metadata": {},
   "source": [
    "Usually, we'll initialize a new plot with the following line:\n",
    "```python\n",
    "fig, axes = plt.subplots()\n",
    "```\n",
    "What `plt.subplots()` does is create a new figure object and a new `axes` object. The figure object is the whole figure, which can contain one or more axes. If you are unfamiliar with the `plt.subplots` interface, have a look [here](https://matplotlib.org/3.5.0/api/_as_gen/matplotlib.pyplot.subplots.html). \n",
    "\n",
    "The axes are objects that have a bunch of methods, corresponding e.g. to different types of plots that can be called on them. Let's see an example of the `scatter` method of axes, which is used to make scatter plots:"
   ]
  },
  {
   "cell_type": "code",
   "execution_count": 71,
   "metadata": {},
   "outputs": [
    {
     "data": {
      "image/png": "[encoded data removed]",
      "text/plain": [
       "<Figure size 432x288 with 1 Axes>"
      ]
     },
     "metadata": {
      "needs_background": "light"
     },
     "output_type": "display_data"
    }
   ],
   "source": [
    "fig, axes = plt.subplots()\n",
    "\n",
    "# create some new data to plot\n",
    "# don't worry too much if you don't understand this line\n",
    "x_scatter, y_scatter = np.random.rand(2,10)\n",
    "\n",
    "# create a scatterplot with the given\n",
    "# x and y coordinates\n",
    "axes.scatter(x_scatter, y_scatter)\n",
    "\n",
    "# show the plot\n",
    "plt.show()"
   ]
  },
  {
   "cell_type": "markdown",
   "metadata": {},
   "source": [
    "Another important function is to draw line plots, called simply `plot`:"
   ]
  },
  {
   "cell_type": "code",
   "execution_count": 73,
   "metadata": {},
   "outputs": [
    {
     "data": {
      "image/png": "[encoded data removed]",
      "text/plain": [
       "<Figure size 432x288 with 1 Axes>"
      ]
     },
     "metadata": {
      "needs_background": "light"
     },
     "output_type": "display_data"
    }
   ],
   "source": [
    "fig, axes = plt.subplots()\n",
    "\n",
    "# create some new data to plot\n",
    "# don't worry too much if you don't understand this line\n",
    "x_line = y_line = np.arange(10)\n",
    "\n",
    "# create a line plot with the given\n",
    "# x and y coordinates\n",
    "axes.plot(x_line, y_line)\n",
    "\n",
    "# show the plot\n",
    "plt.show()"
   ]
  },
  {
   "cell_type": "markdown",
   "metadata": {},
   "source": [
    "Since we will be dealing with discrete variables a lot, it will be useful to also draw barplot, with the method `bar`:"
   ]
  },
  {
   "cell_type": "code",
   "execution_count": 75,
   "metadata": {},
   "outputs": [
    {
     "data": {
      "image/png": "[encoded data removed]",
      "text/plain": [
       "<Figure size 432x288 with 1 Axes>"
      ]
     },
     "metadata": {
      "needs_background": "light"
     },
     "output_type": "display_data"
    }
   ],
   "source": [
    "fig, axes = plt.subplots()\n",
    "\n",
    "# create some new data to plot\n",
    "# don't worry too much if you don't understand this line\n",
    "x_bar = y_bar = np.arange(10)\n",
    "\n",
    "# create a bar plot with the given\n",
    "# x and height values\n",
    "axes.bar(x_bar, y_bar)\n",
    "\n",
    "# show the plot\n",
    "plt.show()"
   ]
  },
  {
   "cell_type": "markdown",
   "metadata": {},
   "source": [
    "We will also need to know what we are plotting, so we need to change the labels on the x-axis:"
   ]
  },
  {
   "cell_type": "code",
   "execution_count": 77,
   "metadata": {},
   "outputs": [
    {
     "data": {
      "image/png": "[encoded data removed]",
      "text/plain": [
       "<Figure size 432x288 with 1 Axes>"
      ]
     },
     "metadata": {
      "needs_background": "light"
     },
     "output_type": "display_data"
    }
   ],
   "source": [
    "fig, axes = plt.subplots()\n",
    "\n",
    "# create some new data to plot\n",
    "# don't worry too much if you don't understand this line\n",
    "x_bar = y_bar = np.arange(10)\n",
    "\n",
    "# create a bar plot with the given\n",
    "# x and height values\n",
    "axes.bar(x_bar, y_bar)\n",
    "\n",
    "# define some labels for each x value\n",
    "# don't worry if you don't understand this line\n",
    "x_tick_labels = [f'lab-{x}' for x in range(len(x_bar))]\n",
    "\n",
    "# tell plt that we'll specify one tick for each bar\n",
    "axes.set_xticks(range(len(x_bar)))\n",
    "\n",
    "# set the tick labels\n",
    "axes.set_xticklabels(x_tick_labels)\n",
    "\n",
    "# show the plot\n",
    "plt.show()"
   ]
  },
  {
   "cell_type": "markdown",
   "metadata": {},
   "source": [
    "## Classes, what's the idea?"
   ]
  },
  {
   "cell_type": "markdown",
   "metadata": {},
   "source": [
    "We talked above about how we use functions because we don't want to rewrite the same stuff over and over again. But suppose that you don't want to just repeat a function, but a whole collection of functions and properties that can depend on each other. Then, you could define a class. In this light, a class is a _template for an object_, where an object has specific values for those variables that you left unspecified in the class.\n",
    "\n",
    "Let's consider an example to make the explanation above clearer (as it often happens, the definitions are interdependent and the best way is to see how the terms are used in practice). Suppose we want to write a program that models students at a university. A very natural way of structuring this program is to have variables that correspond to students, e.g., one variable called `mark` for Mark, etc. \n",
    "\n",
    "What type should these variables be? Clearly they're not integers, or strings, or floats. Ideally we'd want to have a _student_ type with its own methods that we can freely define. In other words, we want to have a `Student` class (Note: class names always start with a capital letter in pyhon by convention), which can produce specific `student` objects (`mark`, etc.). Here's how we can define it in python:"
   ]
  },
  {
   "cell_type": "code",
   "execution_count": 101,
   "metadata": {},
   "outputs": [],
   "source": [
    "# a class is defined with the keyword 'class'\n",
    "# followed by the name of the class \n",
    "# (remember: first letter capitalized!)\n",
    "class Student:\n",
    "    \n",
    "    # __init__ is a special function\n",
    "    # that gets called when a new object\n",
    "    # is created from the class.\n",
    "    # 'self' contains the properties\n",
    "    # and methods defined in the class itself\n",
    "    # and is passed to every function in the class\n",
    "    def __init__(self, name, age):\n",
    "        # define some class attributed\n",
    "        # to store data about the student\n",
    "        self.name = name\n",
    "        self.age = age\n",
    "        self.grades = []\n",
    "        \n",
    "    # define a new function that we can \n",
    "    # use to record new grades that a student got.\n",
    "    # This function takes a grade and\n",
    "    # adds it to the student's record.\n",
    "    def add_grade(self, grade):\n",
    "        # The grades record is a list.\n",
    "        # Append the new grade to the list!\n",
    "        self.grades.append(grade)\n",
    "        \n",
    "    def average_grade(self):\n",
    "        # Calculate the average of the grades\n",
    "        # recorded in the grades list\n",
    "        # and return the resulting mean.\n",
    "        return np.mean(self.grades)"
   ]
  },
  {
   "cell_type": "markdown",
   "metadata": {},
   "source": [
    "Now we can see the notation for instantiating a specific object (in this case, a student called 'Mark') from a class:"
   ]
  },
  {
   "cell_type": "code",
   "execution_count": 100,
   "metadata": {},
   "outputs": [
    {
     "name": "stdout",
     "output_type": "stream",
     "text": [
      "1.15\n"
     ]
    }
   ],
   "source": [
    "# an object is defined by calling \n",
    "# the class name with the arguments\n",
    "# defined in the __init__ function\n",
    "mark = Student('mark', 22)\n",
    "\n",
    "# add some grade to Mark\n",
    "mark.add_grade(1.3)\n",
    "mark.add_grade(1.0)\n",
    "\n",
    "# print Mark's average grade\n",
    "print(mark.average_grade())"
   ]
  },
  {
   "cell_type": "markdown",
   "metadata": {},
   "source": [
    "You don't need to understand everything about classes, and you won't have to define one from scratch, but we'll have to adapt them as part of working with Piantadosi's LOTlib3 library. If you want to read more about classes in python [here is the documentation](https://docs.python.org/3/tutorial/classes.html) and here is [another explanation of the basic idea](https://towardsdatascience.com/introduction-to-python-classes-da526ff745df). "
   ]
  },
  {
   "cell_type": "markdown",
   "metadata": {},
   "source": [
    "## Error handling"
   ]
  },
  {
   "cell_type": "markdown",
   "metadata": {},
   "source": [
    "As you have already seen above, if something goes wrong sometimes python raises an _error_. For instance, above we have encountered `RecursionError: maximum recursion depth exceeded`. However, there are other types of errors in python, for instance if you try to get an element from an index that's too high for a list:"
   ]
  },
  {
   "cell_type": "code",
   "execution_count": 102,
   "metadata": {},
   "outputs": [
    {
     "ename": "IndexError",
     "evalue": "list index out of range",
     "output_type": "error",
     "traceback": [
      "\u001b[0;31m---------------------------------------------------------------------------\u001b[0m",
      "\u001b[0;31mIndexError\u001b[0m                                Traceback (most recent call last)",
      "Input \u001b[0;32mIn [102]\u001b[0m, in \u001b[0;36m<cell line: 2>\u001b[0;34m()\u001b[0m\n\u001b[1;32m      1\u001b[0m a \u001b[38;5;241m=\u001b[39m [\u001b[38;5;241m1\u001b[39m, \u001b[38;5;241m3\u001b[39m, \u001b[38;5;241m4\u001b[39m]\n\u001b[0;32m----> 2\u001b[0m \u001b[38;5;28mprint\u001b[39m(\u001b[43ma\u001b[49m\u001b[43m[\u001b[49m\u001b[38;5;241;43m3\u001b[39;49m\u001b[43m]\u001b[49m)\n",
      "\u001b[0;31mIndexError\u001b[0m: list index out of range"
     ]
    }
   ],
   "source": [
    "a = [1, 3, 4]\n",
    "print(a[3])"
   ]
  },
  {
   "cell_type": "markdown",
   "metadata": {},
   "source": [
    "In general, errors help us understand what went wrong with our code. However, in python they can also be used as part of the program flow. Specifically, we might predict a situation that causes a specific error and write in the code what we want to happen is such a situation occurs. Here's how we do it:"
   ]
  },
  {
   "cell_type": "code",
   "execution_count": 106,
   "metadata": {},
   "outputs": [
    {
     "name": "stdout",
     "output_type": "stream",
     "text": [
      "1, 2, 4, 5, Finished: There are fewer than 10 elements in the list!\n"
     ]
    }
   ],
   "source": [
    "a = [1, 2, 4, 5]\n",
    "\n",
    "# warn python that the indented code\n",
    "# might contain an error\n",
    "try:\n",
    "    for i in range(10):\n",
    "        print(a[i], end=', ')\n",
    "# tell python what to do in case\n",
    "# a specific kind of error occurs\n",
    "# In this case, an IndexError\n",
    "except IndexError:\n",
    "    print('Finished: There are fewer than 10 elements in the list!')"
   ]
  },
  {
   "cell_type": "markdown",
   "metadata": {},
   "source": [
    "Here's another error you should be familiar with (it will come up again later in the course!)"
   ]
  },
  {
   "cell_type": "code",
   "execution_count": 107,
   "metadata": {},
   "outputs": [
    {
     "ename": "ZeroDivisionError",
     "evalue": "division by zero",
     "output_type": "error",
     "traceback": [
      "\u001b[0;31m---------------------------------------------------------------------------\u001b[0m",
      "\u001b[0;31mZeroDivisionError\u001b[0m                         Traceback (most recent call last)",
      "Input \u001b[0;32mIn [107]\u001b[0m, in \u001b[0;36m<cell line: 1>\u001b[0;34m()\u001b[0m\n\u001b[0;32m----> 1\u001b[0m \u001b[38;5;241;43m1\u001b[39;49m\u001b[38;5;241;43m/\u001b[39;49m\u001b[38;5;241;43m0\u001b[39;49m\n",
      "\u001b[0;31mZeroDivisionError\u001b[0m: division by zero"
     ]
    }
   ],
   "source": [
    "1/0"
   ]
  },
  {
   "cell_type": "markdown",
   "metadata": {},
   "source": [
    "And how we can deal with it:"
   ]
  },
  {
   "cell_type": "code",
   "execution_count": 108,
   "metadata": {},
   "outputs": [
    {
     "name": "stdout",
     "output_type": "stream",
     "text": [
      "undefined\n"
     ]
    }
   ],
   "source": [
    "a = 0\n",
    "\n",
    "try:\n",
    "    print(5 / a)\n",
    "except ZeroDivisionError:\n",
    "    print('undefined')"
   ]
  },
  {
   "cell_type": "markdown",
   "metadata": {},
   "source": [
    "## Some exercises"
   ]
  },
  {
   "cell_type": "markdown",
   "metadata": {},
   "source": [
    "- Write a function to sum three numbers.\n",
    "- Write a $\\lambda$ function to sum three numbers.\n",
    "- Write a recursive function that calculates the factorial function for $n$, written $n!$, and defined as follows:\n",
    "\n",
    "\\begin{align}\n",
    "    1! &= 1 \\\\\n",
    "    n! &= n \\times (n-1)!\n",
    "\\end{align}\n",
    "\n",
    "- Write a recursive function `interpret` that takes a string that consists of a series of `¬` followed by a single `a` (`a`, `¬a`, `¬¬a`, `¬¬¬a`, etc) and is defined as follows:\n",
    "\n",
    "\\begin{align}\n",
    "    \\text{interpret}(x) &= 1                             & \\text{if } x = \\text{'a'} \\\\\n",
    "                        &= 1 - \\text{interpret(x[1:])}   & \\text{else}\n",
    "\\end{align}\n",
    "    (do you see how this corresponds to the semantics of Boolean negation?)\n",
    "\n",
    "- Rewrite the factorial function and `interpret` using `recursive_function` and `apply_inside` rather than explicit recursion.\n",
    "- Make a scatterplot of the first 10 strings interpreted by `interpret`  (`a`, `¬a`, `¬¬a`, `¬¬¬a`, etc): the x-axis shows the strings in order and the y-axis shows the result of `interpret` for the corresponding string.\n",
    "- Define a `Teacher` class that contains a record of the students that the teacher taught to, as well as the average grade the teacher gave to all the students (assume for simplicity that this is a school where each student only has one teacher). The class should have:\n",
    "    - an `add_student` method that takes a Student object as defined above.\n",
    "    - an `add_grade` method that takes a student name and a grade, and adds the grade to the student.\n",
    "    - an `calculate_average_grade` method that returns the average grade that the teacher gave across all students.\n",
    "    \n",
    "    Usage example:\n",
    "    \n",
    "```python\n",
    "maryWoolnoth = Teacher('Mary Woolnoth')\n",
    "student1 = Student('Frank', 10)\n",
    "student2 = Student('Bob', 9)\n",
    "\n",
    "maryWoolnoth.add_student(student1)\n",
    "maryWoolnoth.add_student(student2)\n",
    "\n",
    "maryWoolnoth.add_grade('Frank', 1.3)\n",
    "```\n",
    "- Google how to read a text file and print out its content. Write code that does this, but using the `try ... except ...` statements prints 'File does not exist!' if the file does not exist."
   ]
  },
  {
   "cell_type": "markdown",
   "metadata": {},
   "source": [
    "## On googling problems"
   ]
  },
  {
   "cell_type": "markdown",
   "metadata": {},
   "source": [
    "Finally, a short comment on googling stuff. Finding stuff on google is an absolutely social skill for programming, whether you get an error and you have no idea what it means or you need to finds a way of doing something complicated. An important part of this skill is to learn how to _phrase_ your problem in a way that relevant results come up. This skill is hard to teach, and often you need several tries before something relevant comes up, but some words of advice:\n",
    "- Python is incredibly popular and the community is huge. If you have a problem, it's most likely that someone else already had it and there's a discussion / solution out there on the internet.\n",
    "- Don't try to google your whole problem. Think whether you can break it down in smaller problems and google the smaller ones. While it's possible that nobody was in the exact same situation as you, the features of your situation probably are pretty common. To give an extreme example, if you encounter a programming problem in this course you wouldn't google 'Fausto probabilistic LoT why is sum not working', but rather just something about the sum. _Think what's essential to your problem_.\n",
    "- Googling technical questions is not necessarily 'cheating', and normal programming involves constant googling. You need to ask yourself if the googling you are doing is a normal part of the programming. A possible rule of thumb in the context of this course is: Think about how much time you can spend on the exercise, if you have a problem stop and think before you google, but if you feel you're stuck and can't finish within the self-allotted time or if you don't see a way to proceed after a good think, google it. "
   ]
  },
  {
   "cell_type": "markdown",
   "metadata": {},
   "source": [
    "## One more word on programming"
   ]
  },
  {
   "cell_type": "markdown",
   "metadata": {},
   "source": [
    "This was a super super condensed introduction / refresher on python, but of course it could only scratch the surface of the tip of the iceberg (metaphor parkour!). I hope you found it useful!"
   ]
  }
 ],
 "metadata": {
  "kernelspec": {
   "display_name": "Python 3 (ipykernel)",
   "language": "python",
   "name": "python3"
  },
  "language_info": {
   "codemirror_mode": {
    "name": "ipython",
    "version": 3
   },
   "file_extension": ".py",
   "mimetype": "text/x-python",
   "name": "python",
   "nbconvert_exporter": "python",
   "pygments_lexer": "ipython3",
   "version": "3.10.2"
  }
 },
 "nbformat": 4,
 "nbformat_minor": 4
}
