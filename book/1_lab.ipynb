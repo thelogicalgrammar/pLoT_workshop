{
 "cells": [
  {
   "cell_type": "markdown",
   "id": "bb3e7999-048f-4322-bbd5-a996b7db3bae",
   "metadata": {},
   "source": [
    "# The idea of a Language of Thought"
   ]
  },
  {
   "cell_type": "markdown",
   "id": "c2866b90-8467-48cf-9979-0ec43c3ea5ce",
   "metadata": {},
   "source": [
    "TODO"
   ]
  }
 ],
 "metadata": {
  "kernelspec": {
   "display_name": "Python 3 (ipykernel)",
   "language": "python",
   "name": "python3"
  },
  "language_info": {
   "codemirror_mode": {
    "name": "ipython",
    "version": 3
   },
   "file_extension": ".py",
   "mimetype": "text/x-python",
   "name": "python",
   "nbconvert_exporter": "python",
   "pygments_lexer": "ipython3",
   "version": "3.10.2"
  }
 },
 "nbformat": 4,
 "nbformat_minor": 5
}
