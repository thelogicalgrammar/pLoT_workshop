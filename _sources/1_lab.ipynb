{
 "cells": [
  {
   "cell_type": "markdown",
   "id": "8271d199-f71a-4dae-991e-7cd018124ec3",
   "metadata": {},
   "source": [
    "# Interpreted Probabilistic Context Free Grammars"
   ]
  },
  {
   "cell_type": "markdown",
   "id": "c62370e0-874d-4cd8-b88d-8fd5d7a106d0",
   "metadata": {
    "tags": []
   },
   "source": [
    "## Formal Grammars "
   ]
  },
  {
   "cell_type": "code",
   "execution_count": 1,
   "id": "17c9beac-1df0-472b-9cb3-3d528966a834",
   "metadata": {},
   "outputs": [],
   "source": [
    "from numpy.random import choice"
   ]
  },
  {
   "cell_type": "markdown",
   "id": "78ac3777-f04c-409c-9443-3e4c7459eee3",
   "metadata": {},
   "source": [
    "### Using dictionaries"
   ]
  },
  {
   "cell_type": "markdown",
   "id": "021936ba-b475-4405-b748-f241299eaca9",
   "metadata": {},
   "source": [
    "One simple and intuitive way of implementing a grammar in python is as a dictionary:\n",
    "- The keys are the left hand side rules \n",
    "- The values are lists containing the possible strings that can be substituted by the key\n",
    "\n",
    "> __NOTE__: To see why we need to use lists as values rather than using a different key for each rule, try to repeat the same key more than once. What happens?\n",
    "\n",
    "For instance, let's write the grammar with the following rules:\n",
    "$$\n",
    "S \\rightarrow aS | bS | \\epsilon\n",
    "$$"
   ]
  },
  {
   "cell_type": "code",
   "execution_count": 2,
   "id": "98233590-ac3d-449e-9cd3-f65015c1dac4",
   "metadata": {},
   "outputs": [],
   "source": [
    "grammar = {\n",
    "    'S': [\n",
    "        'aS', \n",
    "        'bS', \n",
    "        ''\n",
    "    ]\n",
    "}"
   ]
  },
  {
   "cell_type": "markdown",
   "id": "1f00f6ae-a735-4381-991d-69597430638e",
   "metadata": {},
   "source": [
    "One thing we can do with this way of defining grammars is writing a function that randomly applies rule until we get to a string consisting only of terminals:"
   ]
  },
  {
   "cell_type": "code",
   "execution_count": 3,
   "id": "45e395e2-d292-4616-8350-054efdb39b81",
   "metadata": {},
   "outputs": [
    {
     "name": "stdout",
     "output_type": "stream",
     "text": [
      "String:  ab\n"
     ]
    }
   ],
   "source": [
    "# always start with the starting symbol\n",
    "current_sentence = 'S'\n",
    "# while there is a non-terminal in the sentence\n",
    "while 'S' in current_sentence:\n",
    "    # substitute the first occurrence of S\n",
    "    # with a randomly chosen substitution rule\n",
    "    current_sentence = current_sentence.replace(\n",
    "        'S', \n",
    "        choice((grammar['S'])),\n",
    "        # NOTE: in this particular case there will always\n",
    "        # only be one S, but this is not true for \n",
    "        # all grammars!\n",
    "        1\n",
    "    )\n",
    "print('String: ', current_sentence)"
   ]
  },
  {
   "cell_type": "markdown",
   "id": "b25f7f85-ccfb-453a-990c-23d1bafbe0a1",
   "metadata": {},
   "source": [
    "Write a function that takes a grammar, a set of terminals, and a set of nonterminals, and determines where the grammar is in the Chomsky hierarchy (Spend about 20 minutes on this - if you see that you can do it, leave it!):"
   ]
  },
  {
   "cell_type": "code",
   "execution_count": null,
   "id": "a2fb43b1-f2b2-4b4f-97c4-c7aebb8b9887",
   "metadata": {},
   "outputs": [],
   "source": [
    "# Your function here\n",
    "\n",
    "\n"
   ]
  },
  {
   "cell_type": "markdown",
   "id": "92c99558-78cf-4207-ba91-c68ea9038ab7",
   "metadata": {},
   "source": [
    "### A new piece of python syntax: generators"
   ]
  },
  {
   "cell_type": "markdown",
   "id": "655767d7-a476-4e27-b893-68400d350f66",
   "metadata": {},
   "source": [
    "Before we move onto defining classes to model grammars, which allow richer structures than dictionaries, we need to briefly talk about generators. A generator is basically _a function with a memory_, which can return multiple things in succession. Suppose you have a generator called `gen`. A typical use case is to use it in a construction like `for i in gen():`, where `i` will take on in succession the values returned by the generator.\n",
    "\n",
    "The definition is almost like a function, except generators have the keyword `yield` where functions have `return`, and the execution doesn't stop at the return but can continue as long as future yield are possible.\n",
    "\n",
    "The simple example is a generator that first yields (returns) 1 and then 2:"
   ]
  },
  {
   "cell_type": "code",
   "execution_count": 4,
   "id": "18ad7d07-7708-4486-8c49-08a32e460ebb",
   "metadata": {},
   "outputs": [
    {
     "name": "stdout",
     "output_type": "stream",
     "text": [
      "1\n",
      "2\n"
     ]
    }
   ],
   "source": [
    "def simple_generator():\n",
    "    # when getting things out of a generator,\n",
    "    # the generator will return in the order\n",
    "    # the yield statements are encountered\n",
    "    \n",
    "    # This is encountered first\n",
    "    yield 1\n",
    "    # Then this is encountered\n",
    "    yield 2\n",
    "    \n",
    "for i in simple_generator():\n",
    "    print(i)"
   ]
  },
  {
   "cell_type": "markdown",
   "id": "a082cffe-fc55-405f-a795-20892d4f3d7f",
   "metadata": {},
   "source": [
    "A slightly more complex generator simply counts the odd integers starting with 1:"
   ]
  },
  {
   "cell_type": "code",
   "execution_count": 139,
   "id": "8d9c56fe-c0a7-45ad-89ad-1291bd97d591",
   "metadata": {},
   "outputs": [],
   "source": [
    "def odd_counter():\n",
    "    i = 0\n",
    "    while True:\n",
    "        yield i*2+1\n",
    "        i += 1"
   ]
  },
  {
   "cell_type": "code",
   "execution_count": 140,
   "id": "98a4c886-7900-4da5-a74e-f10842f10e94",
   "metadata": {},
   "outputs": [
    {
     "name": "stdout",
     "output_type": "stream",
     "text": [
      "1, 3, 5, 7, 9, 11, 13, 15, 17, 19, "
     ]
    }
   ],
   "source": [
    "for i in odd_counter():\n",
    "    if i <= 20:\n",
    "        print(i, end=', ')\n",
    "    else:\n",
    "        break"
   ]
  },
  {
   "cell_type": "markdown",
   "id": "08c762db-1408-4a30-b105-4d6b8773f2e9",
   "metadata": {},
   "source": [
    "Note that generators can also call themselves, like functions. Then we get recursive generators:"
   ]
  },
  {
   "cell_type": "code",
   "execution_count": 156,
   "id": "a48056d2-c52f-4694-8faa-7029c87e41e6",
   "metadata": {},
   "outputs": [],
   "source": [
    "# Can you figure out what this generator does?\n",
    "def recursive_gen(current_options, n):\n",
    "    new_options = []\n",
    "    for i in current_options:\n",
    "        if sum(i) == n:\n",
    "            yield i\n",
    "        else:\n",
    "            new_options.append(i+[1])\n",
    "            new_options.append(i+[2])\n",
    "    if all([sum(j)>n for j in new_options]):\n",
    "        return \n",
    "    for i in recursive_gen(new_options, n):\n",
    "        yield i"
   ]
  },
  {
   "cell_type": "code",
   "execution_count": 160,
   "id": "bc019efa-6dd1-4f99-96a1-053d180d0e0c",
   "metadata": {},
   "outputs": [
    {
     "name": "stdout",
     "output_type": "stream",
     "text": [
      "[2, 2, 2]\n",
      "[3, 1, 2]\n",
      "[3, 2, 1]\n",
      "[1, 1, 2, 2]\n",
      "[1, 2, 1, 2]\n",
      "[1, 2, 2, 1]\n",
      "[2, 1, 1, 2]\n",
      "[2, 1, 2, 1]\n",
      "[2, 2, 1, 1]\n",
      "[3, 1, 1, 1]\n",
      "[1, 1, 1, 1, 2]\n",
      "[1, 1, 1, 2, 1]\n",
      "[1, 1, 2, 1, 1]\n",
      "[1, 2, 1, 1, 1]\n",
      "[2, 1, 1, 1, 1]\n"
     ]
    }
   ],
   "source": [
    "for i in recursive_gen([[1],[2],[3]], 6):\n",
    "    print(i)"
   ]
  },
  {
   "cell_type": "markdown",
   "id": "553981de-57f1-46df-98e6-dd60973a38bb",
   "metadata": {},
   "source": [
    "Try to write the recursive_gen just as a normal function with `return` statements."
   ]
  },
  {
   "cell_type": "code",
   "execution_count": null,
   "id": "6eda0957-0180-4dbc-807e-b85bcb4c1264",
   "metadata": {},
   "outputs": [],
   "source": [
    "# Your code here!\n",
    "\n",
    "\n"
   ]
  },
  {
   "cell_type": "markdown",
   "id": "cc101390-a4b0-4337-865d-f6218f5d0cf8",
   "metadata": {},
   "source": [
    "### Using classes"
   ]
  },
  {
   "cell_type": "markdown",
   "id": "e89a9f61-996e-4727-9603-92390225d095",
   "metadata": {},
   "source": [
    "> __NOTE__: Before you work on the exercise in 'Defining a grammar class' please have a look at the rest of the notebook. This should give you an idea of what you need to do with that class, and therefore how to structure them internally."
   ]
  },
  {
   "cell_type": "markdown",
   "id": "1f306e58-e86f-4a72-b56f-4af2677eebe7",
   "metadata": {},
   "source": [
    "#### Defining a grammars class"
   ]
  },
  {
   "cell_type": "markdown",
   "id": "bc46f92a-7344-4432-8205-1fb1dba4b09b",
   "metadata": {},
   "source": [
    "Write a Grammar class to create context-free grammars. The `__init__` method should take a `start` argument with the starting nonterminal symbol.\n",
    "\n",
    "The class should also have the following method (i.e., function):\n",
    "- `add_rule`: add a rule to the grammar. The arguments of `add_rule` are: \n",
    "    1. The nonterminal on the left-hand side of the rule\n",
    "    1. The string on the right side of the rule, containing `%s` wherever a non-terminal appears\n",
    "    1. A list of non-terminal symbols, one for each `%s`, saying which non-terminals correspond to each %s."
   ]
  },
  {
   "cell_type": "code",
   "execution_count": null,
   "id": "e3bb35ad-cec1-4db0-ae0e-a9dca50a58ec",
   "metadata": {},
   "outputs": [],
   "source": [
    "#### your class definition here!\n",
    "\n"
   ]
  },
  {
   "cell_type": "markdown",
   "id": "a552d7bc-54f1-4f46-9abb-0eab81b75e85",
   "metadata": {},
   "source": [
    "Once this is defined, you should be able to run the following code to define the grammar for palindrome which we discussed in class:\n",
    "\n",
    "```python\n",
    "grammar = Grammar(start='S')\n",
    "\n",
    "grammar.add_rule('S', 'a%sa', ['S'])\n",
    "grammar.add_rule('S', 'b%sb', ['S'])\n",
    "grammar.add_rule('S', '')\n",
    "```"
   ]
  },
  {
   "cell_type": "code",
   "execution_count": null,
   "id": "72ab9f1a-fd0f-4671-9c3f-e79d6e20d4aa",
   "metadata": {},
   "outputs": [],
   "source": [
    "#### Define the palindrome grammar here!\n",
    "\n"
   ]
  },
  {
   "cell_type": "markdown",
   "id": "29403fa1-bba0-400f-ba18-6cab6a8d6cab",
   "metadata": {},
   "source": [
    "#### Finding minimal formulas (more difficult!)"
   ]
  },
  {
   "cell_type": "markdown",
   "id": "859a2f5b-ceb8-4e28-b732-51311d1bded0",
   "metadata": {},
   "source": [
    "Now add another method `compute_first` to the class above which generates the `n` shortest strings in the language.\n",
    "\n",
    "You should be able to run for instance (given the palindrome grammar above):\n",
    "\n",
    "```python\n",
    "grammar.compute_first(6)\n",
    "```\n",
    "\n",
    "Which should print out:\n",
    "\n",
    "```python\n",
    "aa\n",
    "bb\n",
    "aaaa\n",
    "abba\n",
    "baab\n",
    "bbbb\n",
    "```\n",
    "\n",
    "> __HINT__: Think about this as exploring a tree (branches separating whenever more than one rule can be applied), and use the power of recursion to explore the tree. The recursive function can take a 'present' layer (the strings at the current nesting level) and progressively build the next layer by applying every rule to every sentence with nonterminals in the current layer, while yielding the sentences that only contain terminals. Then, yield the results of running the function on the next layer in a loop. "
   ]
  },
  {
   "cell_type": "code",
   "execution_count": 68,
   "id": "457d5837-ec7a-477a-9370-59275aee3085",
   "metadata": {},
   "outputs": [],
   "source": [
    "#### Test compute_first here!\n",
    "\n",
    "def enumerate_palindromes(layer):\n",
    "    # your function here\n",
    "\n",
    "\n",
    "def compute_first(n):\n",
    "    for i, m in enumerate(enumerate_palindromes(['S'])):\n",
    "        if i <= n:\n",
    "            print(m)\n",
    "        else:\n",
    "            break"
   ]
  },
  {
   "cell_type": "code",
   "execution_count": 67,
   "id": "b7f24d6d-cb70-47f8-a49a-88c11614e22b",
   "metadata": {},
   "outputs": [
    {
     "name": "stdout",
     "output_type": "stream",
     "text": [
      "\n",
      "aa\n",
      "bb\n",
      "aaaa\n",
      "abba\n"
     ]
    }
   ],
   "source": [
    "compute_first(4)"
   ]
  },
  {
   "cell_type": "markdown",
   "id": "3eeeb210-38c8-4858-bfa8-9191d8f7a3b7",
   "metadata": {},
   "source": [
    "#### Probabilistic context-free grammar"
   ]
  },
  {
   "cell_type": "markdown",
   "id": "8e55b3b2-ed44-4943-85e5-13154bd136b5",
   "metadata": {},
   "source": [
    "Expand the Grammar class once more so that `add_rule` takes one more argument: The (unnormalized) probability of applying the rule rather than the other rules with the same left-hand side.\n",
    "\n",
    "The following code for instance redefines the palindrome grammar above but with probabilities:\n",
    "```python\n",
    "grammar = Grammar(start='S')\n",
    "\n",
    "grammar.add_rule('S', 'a%sa', ['S'], 1)\n",
    "grammar.add_rule('S', 'b%sb', ['S'], 1)\n",
    "grammar.add_rule('S', '', 1)\n",
    "```"
   ]
  },
  {
   "cell_type": "code",
   "execution_count": null,
   "id": "6e3a3392-c6a6-4f86-ab23-56094ef0d316",
   "metadata": {},
   "outputs": [],
   "source": [
    "#### your class definition here!\n",
    "\n"
   ]
  },
  {
   "cell_type": "markdown",
   "id": "308903fd-3285-4c52-828e-fbb9f5f1417c",
   "metadata": {},
   "source": [
    "Add a method `generate` to Grammar to generate a random string in the language by iteratively applying the rules according to the defined probabilities. The following code should run (but possibly give a different answer on different runs):\n",
    "\n",
    "```python\n",
    "grammar.generate()\n",
    "```\n",
    "\n",
    "printing e.g.,\n",
    "```python\n",
    "aabbaa\n",
    "```"
   ]
  },
  {
   "cell_type": "code",
   "execution_count": null,
   "id": "5f67d83d-8d4f-4f2f-a4b4-8633e51a0776",
   "metadata": {},
   "outputs": [],
   "source": [
    "#### Test generate here!\n",
    "\n"
   ]
  },
  {
   "cell_type": "markdown",
   "id": "d01d5cd0-6f6f-48a5-b8d0-57ef37e62dca",
   "metadata": {},
   "source": [
    "What happens when we increase...\n",
    "\n",
    "- the probability of the rule $S \\rightarrow aSa$?\n",
    "- the probability of the rule $S \\rightarrow bSb$?\n",
    "- the probability of the rule $S \\rightarrow \\epsilon$?"
   ]
  },
  {
   "cell_type": "markdown",
   "id": "85b681ad-e165-41a0-8dbd-198d868361ae",
   "metadata": {},
   "source": [
    "## Formal semantics"
   ]
  },
  {
   "cell_type": "code",
   "execution_count": 8,
   "id": "3f456b77-0430-4a4c-9569-a3e5ed5407c4",
   "metadata": {},
   "outputs": [],
   "source": [
    "from numpy.random import choice\n",
    "import numpy as np\n",
    "import matplotlib.pyplot as plt\n",
    "import re\n",
    "import IPython"
   ]
  },
  {
   "cell_type": "markdown",
   "id": "b0c9f213-ec29-42a4-9931-ece683df2cbf",
   "metadata": {},
   "source": [
    "In the past few weeks, we have set up a picture where the mind encodes categories and other stuff with a Language of Thought, we have seen how we can formally define languages, and we have explored how they can be interpreted. However, you might not have realized yet how powerful these methods are in what they can express. This week, we'll put it all together and see some case studies: a simple grammar for arithmetic, a grammar of shapes, and a grammar of sounds. "
   ]
  },
  {
   "cell_type": "markdown",
   "id": "e5fb8c82-e0d8-4f61-9403-5741c658ce90",
   "metadata": {},
   "source": [
    "Let's start by defining a couple of useful functions (can ignore them for now and have a look when you encounter them below):"
   ]
  },
  {
   "cell_type": "code",
   "execution_count": 9,
   "id": "0f8f5c48-7f46-4934-bfb4-5b15eab572de",
   "metadata": {
    "tags": []
   },
   "outputs": [],
   "source": [
    "def normalize(arr):\n",
    "    # Transform the array so that it sums to 1\n",
    "    return arr / np.sum(arr)\n",
    "\n",
    "\n",
    "def apply_rule(match, grammar):\n",
    "    \"\"\"\n",
    "    Accepts both PCFGs (where the keys of grammar\n",
    "    are lists of tuples (unnormalized prob, right hand side)\n",
    "    and CFGs (where the keys are lists of right hand side strings.\n",
    "    \"\"\"\n",
    "    match_txt = grammar[match.group(0)]\n",
    "    try:\n",
    "        # if PCFG\n",
    "        probs, subs = zip(*match_txt)\n",
    "    except ValueError:\n",
    "        # if CFG\n",
    "        subs = match_txt\n",
    "        probs = [1]*len(subs)\n",
    "    sub = choice(subs, p=normalize(probs))\n",
    "    return sub"
   ]
  },
  {
   "cell_type": "markdown",
   "id": "8e0db500-3635-420b-86fb-64bfffc6c4e5",
   "metadata": {
    "tags": []
   },
   "source": [
    "### Basic arithmetic as a CFG"
   ]
  },
  {
   "cell_type": "markdown",
   "id": "f6144739-ca31-451f-b684-f3037499c0c2",
   "metadata": {},
   "source": [
    "#### A simple grammar"
   ]
  },
  {
   "cell_type": "markdown",
   "id": "a23784ce-ad95-4d0a-9779-677fe6dfa1c0",
   "metadata": {},
   "source": [
    "Before we get onto interpreting sentences from the grammar, we need a grammar to produce sentences with. For simplicity, we will encode the language as a dictionary. The keys are the left-hand side of substitution rules, the values a list of possible right-hand sides. \n",
    "\n",
    "> __NOTE__ We will put non-terminals between angle brackets, e.g. `'<S>'` to simplify parsing the strings.\n",
    "\n",
    "Let's construct a very simple grammar:"
   ]
  },
  {
   "cell_type": "code",
   "execution_count": 10,
   "id": "0d8385a5-005b-44bb-82b9-d77b41f00a14",
   "metadata": {},
   "outputs": [],
   "source": [
    "CFG_arithmetic = {\n",
    "    '<S>': ['plusOne(<S>)', 'one']\n",
    "}"
   ]
  },
  {
   "cell_type": "markdown",
   "id": "1f98f99b-e682-4b80-a0a0-1e01599c98cf",
   "metadata": {},
   "source": [
    "We will also need some way of generating random strings from the grammar:"
   ]
  },
  {
   "cell_type": "code",
   "execution_count": 11,
   "id": "938654eb-8756-464d-bea0-3350612fc386",
   "metadata": {
    "tags": []
   },
   "outputs": [],
   "source": [
    "def complete(sentence, grammar):\n",
    "    # if there are still '<' that means there are still nonterminals\n",
    "    while '<' in sentence:\n",
    "        # substitute the first nonterminal applying \n",
    "        # one of the rules in the grammar\n",
    "        sentence = re.sub(\n",
    "            # Greedy search of an expression between\n",
    "            # angle brackets.\n",
    "            '<(.*?)>', \n",
    "            lambda match: apply_rule(match, grammar), \n",
    "            sentence\n",
    "        )\n",
    "    return sentence"
   ]
  },
  {
   "cell_type": "markdown",
   "id": "6845de29-fe7a-4bd6-ad0d-e97c1bfebc8e",
   "metadata": {},
   "source": [
    "So for example let's produce a random string:"
   ]
  },
  {
   "cell_type": "code",
   "execution_count": 14,
   "id": "3fed0a6e-e428-45b6-a7af-5e4c98b4d4fa",
   "metadata": {},
   "outputs": [
    {
     "data": {
      "text/plain": [
       "'plusOne(plusOne(one))'"
      ]
     },
     "execution_count": 14,
     "metadata": {},
     "output_type": "execute_result"
    }
   ],
   "source": [
    "complete('<S>', CFG_arithmetic)"
   ]
  },
  {
   "cell_type": "markdown",
   "id": "3ba08583-315a-43aa-a35b-c2391f26accb",
   "metadata": {},
   "source": [
    "Note that even though we have a sentence now and we have an _intuitive_ sense of what it could mean, we still need a way of implementing the interpretation in python. So let's do that!"
   ]
  },
  {
   "cell_type": "markdown",
   "id": "9050840e-c50b-495c-a229-e0d8ca97374d",
   "metadata": {},
   "source": [
    "#### Interpreting the grammar"
   ]
  },
  {
   "cell_type": "markdown",
   "id": "ddb16fdd-47ac-4e7f-810d-d086fba36ed4",
   "metadata": {},
   "source": [
    "We will use $\\lambda$ expressions to encode the meaning of our operators. Thankfully this is made quite easy by Python's lambda syntax, which we have seen a couple of weeks ago. We want to interpret the very simple arithmetic language defined above. We assume a type system with:\n",
    "- One primitive type $n$, the type of integers.\n",
    "- Function types defined inductively: $<\\alpha, \\beta>$ is the set of functions from things of type $\\alpha$ to things of type $\\beta$."
   ]
  },
  {
   "cell_type": "markdown",
   "id": "227cb131-a75d-48b1-aed9-63a5f239c688",
   "metadata": {},
   "source": [
    "We can give meanings to all the terminals in our language. We do this in a dictionary: the keys are the terminals of our grammar and the values are the meanings, written as $\\lambda$ expressions:"
   ]
  },
  {
   "cell_type": "code",
   "execution_count": 15,
   "id": "f79ae0d5-8882-4956-85d7-3a539d9fb8a3",
   "metadata": {},
   "outputs": [],
   "source": [
    "meanings = {\n",
    "    # type n\n",
    "    'one': 1,\n",
    "    # type <n,n>\n",
    "    'plusOne': lambda x: x+1\n",
    "}"
   ]
  },
  {
   "cell_type": "markdown",
   "id": "35667013-e715-473e-888a-144d53211899",
   "metadata": {},
   "source": [
    "Our primitives can be applied to each other in a way consistent with their types:"
   ]
  },
  {
   "cell_type": "code",
   "execution_count": 16,
   "id": "859c06e8-8061-46f1-9a89-82cd34d885e9",
   "metadata": {},
   "outputs": [
    {
     "data": {
      "text/plain": [
       "3"
      ]
     },
     "execution_count": 16,
     "metadata": {},
     "output_type": "execute_result"
    }
   ],
   "source": [
    "# n to n\n",
    "meanings['plusOne'](\n",
    "    # n to n\n",
    "    meanings['plusOne'](\n",
    "        # n\n",
    "        meanings['one']\n",
    "    )\n",
    ")"
   ]
  },
  {
   "cell_type": "markdown",
   "id": "8a693bff-c720-440a-a307-033d41dd04fc",
   "metadata": {},
   "source": [
    "If the primitives in the language are defined, we can also write a string in the language as a python string, e.g., `'plusOne(one)'`. This is useful when e.g. building random strings from the language. However, we need a way to go from the string to the _interpreted_ string. For this, we exploit python's own interpreter via the keyword `eval`. Python's `eval` function plays the role of the interpretation function which we discussed in class, but it allows us to not take care of parsing brackets (going from a string to the underlying parse tree to interpret).\n",
    "\n",
    "> __NOTE__ It is generally not recommended to use Python's `eval`. We will use it here only to evaluate sentences in our hand-made grammars, but never let it evaluate something you don't understand! We can pass `meanings` as the second argument of `eval` to tell it which symbols to interpret.\n",
    "\n",
    "Let's see a simple example:"
   ]
  },
  {
   "cell_type": "code",
   "execution_count": 17,
   "id": "5ab9bcbb-bcc2-4930-a3ef-0181406d4a93",
   "metadata": {},
   "outputs": [
    {
     "data": {
      "text/plain": [
       "3"
      ]
     },
     "execution_count": 17,
     "metadata": {},
     "output_type": "execute_result"
    }
   ],
   "source": [
    "eval('plusOne(plusOne(one))', meanings)"
   ]
  },
  {
   "cell_type": "markdown",
   "id": "9e37ecac-0788-4232-b30b-5df9a98e07bf",
   "metadata": {},
   "source": [
    "Now we have a way of generating random strings from our gramnmar, as well as interpreting them. Therefore, we can study what happens when we produce a bunch of random strings. For instance, we can ask: what's the distribution of numbers produced by our PCFG?"
   ]
  },
  {
   "cell_type": "code",
   "execution_count": 19,
   "id": "699afcc3-e158-4b6e-9a6b-8e23d30be7c7",
   "metadata": {},
   "outputs": [],
   "source": [
    "# plot distribution of numbers obtained with this grammar\n",
    "numbers = [\n",
    "    eval(complete('<S>', CFG_arithmetic), meanings) \n",
    "    for _ in range(10000)\n",
    "]"
   ]
  },
  {
   "cell_type": "code",
   "execution_count": null,
   "id": "f386a27c-0038-48f7-86fd-d3ebae52d3ae",
   "metadata": {},
   "outputs": [],
   "source": [
    "plt.hist(numbers, density=True, bins=np.arange(1,13))\n",
    "plt.xticks(np.arange(1, 13))\n",
    "plt.show()"
   ]
  },
  {
   "cell_type": "markdown",
   "id": "02e02d16-d406-41e8-a8c9-3629341a57fc",
   "metadata": {},
   "source": [
    "Turns out the probability of each number $n$ is $2^{-n}$. Can you tell why?"
   ]
  },
  {
   "cell_type": "markdown",
   "id": "30bcc611-36ce-4db2-9a3c-3a579097f226",
   "metadata": {},
   "source": [
    "#### From a CFG to a PCFG"
   ]
  },
  {
   "cell_type": "markdown",
   "id": "c29343a8-93e4-4555-83eb-73b25d81fdc1",
   "metadata": {},
   "source": [
    "In practice, we'll mostly work with _probabilistic_ context free grammars. The idea here is that for each nonterminal we specify the probability of each possible substitution. A natural way of doing this here is, instead of having simply a list of possible substitutions as the value of the grammar dictionary, we have a list of tuples. The first element of each tuple is the (unnormalized) probability of that substitution rule, the second element is the actual right-hand side. \n",
    "\n",
    "Applying this to our simple arithmetic grammar above:"
   ]
  },
  {
   "cell_type": "code",
   "execution_count": 21,
   "id": "a4765353-8331-4018-803f-b0c3c97e2abc",
   "metadata": {},
   "outputs": [],
   "source": [
    "CFG_arithmetic = {\n",
    "    '<S>': [\n",
    "        (1, 'plusOne(<S>)'), \n",
    "        (1, 'one')\n",
    "    ]\n",
    "}"
   ]
  },
  {
   "cell_type": "markdown",
   "id": "a066de27-e3b3-4961-a2cf-95f9d125c771",
   "metadata": {},
   "source": [
    "Our function `complete` still works, but now applies substitution rules with the given probabilities:"
   ]
  },
  {
   "cell_type": "code",
   "execution_count": 22,
   "id": "8d5e31dc-70f6-4f55-b41d-96153009a9b1",
   "metadata": {},
   "outputs": [
    {
     "data": {
      "text/plain": [
       "'plusOne(plusOne(one))'"
      ]
     },
     "execution_count": 22,
     "metadata": {},
     "output_type": "execute_result"
    }
   ],
   "source": [
    "complete('<S>', CFG_arithmetic)"
   ]
  },
  {
   "cell_type": "markdown",
   "id": "e080145c-904d-4f43-99bf-7911cb649a9b",
   "metadata": {},
   "source": [
    "#### Expanding the grammar"
   ]
  },
  {
   "cell_type": "markdown",
   "id": "e9a32be8-7950-4efd-a8c2-15f57140d04a",
   "metadata": {},
   "source": [
    "Our simple arithmetical grammar is cool and all, but extremely small. Let's enrich it slightly:"
   ]
  },
  {
   "cell_type": "code",
   "execution_count": 23,
   "id": "cd7fec43-f817-4f1c-bdbc-ae7a00443aac",
   "metadata": {},
   "outputs": [],
   "source": [
    "CFG_arithmetic = {\n",
    "    '<S>': [\n",
    "        (1, 'plusOne(<S>)'), \n",
    "        (1, 'one'),\n",
    "        # NEW!\n",
    "        (0.3, 'plus(<S>)(<S>)'),\n",
    "        (0.3, 'minus(<S>)(<S>)')\n",
    "    ]\n",
    "}"
   ]
  },
  {
   "cell_type": "code",
   "execution_count": 24,
   "id": "2aee8bfc-8790-48fc-b64c-393eeadb2426",
   "metadata": {},
   "outputs": [
    {
     "data": {
      "text/plain": [
       "{'<S>': [(1, 'plusOne(<S>)'),\n",
       "  (1, 'one'),\n",
       "  (0.3, 'plus(<S>)(<S>)'),\n",
       "  (0.3, 'minus(<S>)(<S>)')]}"
      ]
     },
     "execution_count": 24,
     "metadata": {},
     "output_type": "execute_result"
    }
   ],
   "source": [
    "CFG_arithmetic"
   ]
  },
  {
   "cell_type": "markdown",
   "id": "8f1829f2-0ee4-4a9e-8cd2-38b6f06d49db",
   "metadata": {},
   "source": [
    "We also need to add the meaning of the new terminals:"
   ]
  },
  {
   "cell_type": "code",
   "execution_count": 25,
   "id": "6ce07abb-5711-40e4-928b-acc122879dce",
   "metadata": {},
   "outputs": [],
   "source": [
    "# type <n,<n,n>>\n",
    "meanings['plus'] = lambda x: lambda y: x + y\n",
    "# type <n,<n,n>>\n",
    "meanings['minus'] = lambda x: lambda y: x - y"
   ]
  },
  {
   "cell_type": "markdown",
   "id": "7ac2e388-ad54-4bcd-b64f-9d78b6ddb10b",
   "metadata": {},
   "source": [
    "Make sure that we can interpret the strings produces by the expanded grammar:"
   ]
  },
  {
   "cell_type": "code",
   "execution_count": 26,
   "id": "fb518d8b-75d9-4c67-8157-775e18ad0880",
   "metadata": {},
   "outputs": [
    {
     "data": {
      "text/plain": [
       "5"
      ]
     },
     "execution_count": 26,
     "metadata": {},
     "output_type": "execute_result"
    }
   ],
   "source": [
    "eval('plus(plusOne(plusOne(one)))(plusOne(one))', meanings)"
   ]
  },
  {
   "cell_type": "markdown",
   "id": "8afd302e-c9e4-4d19-af03-c4b2998772e1",
   "metadata": {},
   "source": [
    "Let's produce a bunch of sentences in the new grammar and see what distribution their interpretation takes:"
   ]
  },
  {
   "cell_type": "code",
   "execution_count": 27,
   "id": "c51fe933-65a6-4754-a055-a1067eb6924e",
   "metadata": {},
   "outputs": [],
   "source": [
    "# plot distribution of numbers obtained with this grammar\n",
    "numbers = [\n",
    "    eval(complete('<S>', CFG_arithmetic), meanings) \n",
    "    for _ in range(10000)\n",
    "]"
   ]
  },
  {
   "cell_type": "code",
   "execution_count": null,
   "id": "f625b132-ead4-4508-9f29-be91f3120103",
   "metadata": {},
   "outputs": [],
   "source": [
    "plt.hist(numbers, density=True, bins=100)\n",
    "plt.show()"
   ]
  }
 ],
 "metadata": {
  "kernelspec": {
   "display_name": "Python 3 (ipykernel)",
   "language": "python",
   "name": "python3"
  },
  "language_info": {
   "codemirror_mode": {
    "name": "ipython",
    "version": 3
   },
   "file_extension": ".py",
   "mimetype": "text/x-python",
   "name": "python",
   "nbconvert_exporter": "python",
   "pygments_lexer": "ipython3",
   "version": "3.11.3"
  }
 },
 "nbformat": 4,
 "nbformat_minor": 5
}
